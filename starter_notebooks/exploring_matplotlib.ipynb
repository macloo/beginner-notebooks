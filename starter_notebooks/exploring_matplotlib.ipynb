{
 "cells": [
  {
   "cell_type": "markdown",
   "metadata": {
    "nbgrader": {
     "grade": false,
     "grade_id": "dox",
     "locked": true,
     "schema_version": 1,
     "solution": false
    }
   },
   "source": [
    "# Exploring with Matplotlib"
   ]
  },
  {
   "cell_type": "code",
   "execution_count": null,
   "metadata": {
    "nbgrader": {
     "grade": false,
     "grade_id": "imports",
     "locked": true,
     "schema_version": 1,
     "solution": false
    }
   },
   "outputs": [],
   "source": [
    "import pandas as pd\n",
    "%pylab inline"
   ]
  },
  {
   "cell_type": "markdown",
   "metadata": {
    "nbgrader": {
     "grade": false,
     "grade_id": "01_dox",
     "locked": true,
     "schema_version": 1,
     "solution": false
    }
   },
   "source": [
    "Use the `titanic_new.csv` from the `data` folder to explore data about the Titanic passengers and make a simple (?) chart.\n"
   ]
  },
  {
   "cell_type": "code",
   "execution_count": null,
   "metadata": {
    "nbgrader": {
     "grade": true,
     "grade_id": "01_sol",
     "locked": false,
     "points": 3,
     "schema_version": 1,
     "solution": true
    },
    "scrolled": true
   },
   "outputs": [],
   "source": [
    "df = pd.read_csv('data/titanic_new.csv')\n",
    "\n",
    "# first look at the data\n",
    "df.head()"
   ]
  },
  {
   "cell_type": "code",
   "execution_count": null,
   "metadata": {},
   "outputs": [],
   "source": [
    "# how many rows, columns?\n",
    "df.shape"
   ]
  },
  {
   "cell_type": "code",
   "execution_count": null,
   "metadata": {
    "scrolled": true
   },
   "outputs": [],
   "source": [
    "# how many people in each class?\n",
    "df.Pclass.value_counts()"
   ]
  },
  {
   "cell_type": "code",
   "execution_count": null,
   "metadata": {},
   "outputs": [],
   "source": [
    "# how many people of each gender?\n",
    "df.Sex.value_counts()"
   ]
  },
  {
   "cell_type": "code",
   "execution_count": null,
   "metadata": {},
   "outputs": [],
   "source": [
    "# how many people survived or did not?\n",
    "df.Survived.value_counts()"
   ]
  },
  {
   "cell_type": "code",
   "execution_count": null,
   "metadata": {},
   "outputs": [],
   "source": [
    "# get all the column names for easy copy/pasting\n",
    "df.columns"
   ]
  },
  {
   "cell_type": "code",
   "execution_count": null,
   "metadata": {
    "scrolled": true
   },
   "outputs": [],
   "source": [
    "# NOTES: I want Survived, Pclass, Sex. \n",
    "# I would like to to stack up M & F for each Pclass. \n",
    "# Y axis will be how many people.\n",
    "# X axis will be Pclass. Column chart. Stacked bar. Stack will separate M & F.\n",
    "\n",
    "# make a short list of just columns I want in chart\n",
    "column_names  = ['Survived', 'Pclass', 'Sex']\n",
    "\n",
    "# make a new dataframe with only those columns\n",
    "df2 = df[column_names]\n",
    "\n",
    "# check a sample to see how df2 looks - sample gets random rows\n",
    "df2.sample(8)"
   ]
  },
  {
   "cell_type": "code",
   "execution_count": null,
   "metadata": {
    "scrolled": true
   },
   "outputs": [],
   "source": [
    "# figured this out from https://stackoverflow.com/questions/23415500/pandas-plotting-a-stacked-bar-chart \n",
    "\n",
    "df2.groupby(['Pclass','Sex','Survived'])['Survived'].count().plot(kind='bar')\n"
   ]
  },
  {
   "cell_type": "code",
   "execution_count": null,
   "metadata": {},
   "outputs": [],
   "source": [
    "# a different way - note what happened to the order\n",
    "df2.groupby(['Survived','Pclass','Sex'])['Survived'].count().plot(kind='bar')\n"
   ]
  },
  {
   "cell_type": "markdown",
   "metadata": {},
   "source": [
    "Now I have figured out how to show the data I want: how many males, females, in each passenger class (1, 2 or 3), survived or not (1 or 0). But they are all separated into their own columns. I want to make them stack. How?\n",
    "\n",
    "Note - can you recognize the tall column (3, male, 0)? It is males in 3rd class (3) who did not survive (0).\n",
    "\n",
    "Next I'm going to make a simple chart showing ONLY survivors. Notice how I get **only the rows that have 1 in the Survived column** — and I store that as **a new dataframe** named `sur`.\n"
   ]
  },
  {
   "cell_type": "code",
   "execution_count": null,
   "metadata": {
    "scrolled": true
   },
   "outputs": [],
   "source": [
    "# using df2, make a new dataframe that includes only survivors\n",
    "sur = df2[df2.Survived == 1]\n",
    "\n",
    "# using that new dataframe, make a new bar chart\n",
    "sur.groupby(['Pclass','Sex'])['Survived'].count().plot.bar()"
   ]
  },
  {
   "cell_type": "markdown",
   "metadata": {},
   "source": [
    "Note how the next chart shows the opposite of the chart above. Above: Survivors only. Below: Dead only. Note the difference in the vertical Y axis."
   ]
  },
  {
   "cell_type": "code",
   "execution_count": null,
   "metadata": {
    "scrolled": true
   },
   "outputs": [],
   "source": [
    "# using df2, make a new dataframe that includes only the dead\n",
    "died = df2[df2.Survived == 0]\n",
    "\n",
    "# using that new dataframe, make a new bar chart\n",
    "died.groupby(['Pclass','Sex'])['Survived'].count().plot.bar()"
   ]
  },
  {
   "cell_type": "markdown",
   "metadata": {},
   "source": [
    "Great — but still not a stacked bar chart like I wanted."
   ]
  },
  {
   "cell_type": "code",
   "execution_count": null,
   "metadata": {
    "scrolled": true
   },
   "outputs": [],
   "source": [
    "# back to something I had earlier - but without the chart\n",
    "df2.groupby(['Pclass','Sex','Survived'])['Survived'].count()"
   ]
  },
  {
   "cell_type": "code",
   "execution_count": null,
   "metadata": {},
   "outputs": [],
   "source": [
    "# what if I save that as all_grps\n",
    "all_grps = df2.groupby(['Pclass','Sex','Survived'])['Survived'].count()\n",
    "\n",
    "# can I use the counts from that dataframe? Yes!\n",
    "# this gives me the count for 3rd class, male, 0 (did not survive)\n",
    "all_grps[3][2]"
   ]
  },
  {
   "cell_type": "code",
   "execution_count": null,
   "metadata": {},
   "outputs": [],
   "source": [
    "# this gives me the count for 1st class, female, 1 (survived)\n",
    "all_grps[1][1]"
   ]
  },
  {
   "cell_type": "markdown",
   "metadata": {},
   "source": [
    "That was interesting, but it did not seem very helpful. Oh, well.\n",
    "\n",
    "On to a new attempt."
   ]
  },
  {
   "cell_type": "code",
   "execution_count": null,
   "metadata": {
    "scrolled": true
   },
   "outputs": [],
   "source": [
    "# my new attempt, after more Googling: \n",
    "# only people who died, using new dataframe \"died\" from earlier\n",
    "died.groupby(['Pclass','Sex'])['Survived'].count().unstack().plot.bar(stacked=True)"
   ]
  },
  {
   "cell_type": "code",
   "execution_count": null,
   "metadata": {
    "scrolled": true
   },
   "outputs": [],
   "source": [
    "# aha, stacks with male and female! Now try -\n",
    "# only people who survived, using new dataframe \"sur\" from earlier\n",
    "sur.groupby(['Pclass','Sex'])['Survived'].count().unstack().plot.bar(stacked=True)"
   ]
  },
  {
   "cell_type": "markdown",
   "metadata": {},
   "source": [
    "I would *really* like to get the survivors and the dead into one chart. What I envision is 6 bars, showing stacked male and female, with separate bars for survived and died *in each class.* But I have not quite figured that out.\n",
    "\n",
    "I hope this gives you a decent idea of how to *explore* the dataset with Pandas, and how to work out getting the chart you desire.\n"
   ]
  }
 ],
 "metadata": {
  "celltoolbar": "Create Assignment",
  "kernelspec": {
   "display_name": "Python 3",
   "language": "python",
   "name": "python3"
  },
  "language_info": {
   "codemirror_mode": {
    "name": "ipython",
    "version": 3
   },
   "file_extension": ".py",
   "mimetype": "text/x-python",
   "name": "python",
   "nbconvert_exporter": "python",
   "pygments_lexer": "ipython3",
   "version": "3.7.4"
  }
 },
 "nbformat": 4,
 "nbformat_minor": 2
}
