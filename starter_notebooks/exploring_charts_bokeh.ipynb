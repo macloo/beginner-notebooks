{
 "cells": [
  {
   "cell_type": "markdown",
   "metadata": {
    "nbgrader": {
     "grade": false,
     "grade_id": "dox",
     "locked": true,
     "schema_version": 1,
     "solution": false
    }
   },
   "source": [
    "# Exploring with Bokeh charts"
   ]
  },
  {
   "cell_type": "code",
   "execution_count": null,
   "metadata": {
    "nbgrader": {
     "grade": false,
     "grade_id": "imports",
     "locked": true,
     "schema_version": 1,
     "solution": false
    }
   },
   "outputs": [],
   "source": [
    "import pandas as pd\n",
    "\n",
    "from bokeh.plotting import figure, show\n",
    "from bokeh.models import ColumnDataSource\n",
    "from bokeh.io import output_notebook"
   ]
  },
  {
   "cell_type": "markdown",
   "metadata": {
    "nbgrader": {
     "grade": false,
     "grade_id": "02_dox",
     "locked": true,
     "schema_version": 1,
     "solution": false
    }
   },
   "source": [
    "Use the `WHO.csv` dataset in the `data` folder to build an interactive chart with Bokeh."
   ]
  },
  {
   "cell_type": "code",
   "execution_count": null,
   "metadata": {
    "nbgrader": {
     "grade": true,
     "grade_id": "02_sol",
     "locked": false,
     "points": 4,
     "schema_version": 1,
     "solution": true
    },
    "scrolled": true
   },
   "outputs": [],
   "source": [
    "who_df = pd.read_csv('../data/WHO.csv')\n",
    "\n",
    "# examine dataset\n",
    "who_df.head()"
   ]
  },
  {
   "cell_type": "code",
   "execution_count": null,
   "metadata": {},
   "outputs": [],
   "source": [
    "# how many rows, columns?\n",
    "who_df.shape"
   ]
  },
  {
   "cell_type": "code",
   "execution_count": null,
   "metadata": {
    "scrolled": false
   },
   "outputs": [],
   "source": [
    "# how many countries in each region?\n",
    "who_df.Region.value_counts()"
   ]
  },
  {
   "cell_type": "code",
   "execution_count": null,
   "metadata": {},
   "outputs": [],
   "source": [
    "# get column names for easy copy/pasting\n",
    "who_df.columns"
   ]
  },
  {
   "cell_type": "markdown",
   "metadata": {},
   "source": [
    "I think I would like to make a scatter plot of child mortality against life expectancy. Let's investigate those two columns."
   ]
  },
  {
   "cell_type": "code",
   "execution_count": null,
   "metadata": {
    "scrolled": true
   },
   "outputs": [],
   "source": [
    "# examine ChildMortality\n",
    "who_df.ChildMortality.describe()"
   ]
  },
  {
   "cell_type": "code",
   "execution_count": null,
   "metadata": {
    "scrolled": true
   },
   "outputs": [],
   "source": [
    "# examine LifeExpectancy\n",
    "who_df.LifeExpectancy.describe()"
   ]
  },
  {
   "cell_type": "markdown",
   "metadata": {},
   "source": [
    "Seems like there are numeric values for all countries, since min and max are numbers for both columns I just examined. No cleaning or dleting of rows will be required.\n",
    "\n",
    "Let's start with a Bokeh chart. \n",
    "\n",
    "See the URLs in the comments in the next cell for how I figured out the things."
   ]
  },
  {
   "cell_type": "code",
   "execution_count": null,
   "metadata": {
    "scrolled": true
   },
   "outputs": [],
   "source": [
    "# make a chart where x-axis is ChildMortality and y-axis is LifeExpectancy \n",
    "\n",
    "# for tools, see https://bokeh.pydata.org/en/latest/docs/user_guide/tools.html \n",
    "TOOLS = \"zoom_in,zoom_out,hover,pan,crosshair,reset\"\n",
    "\n",
    "# define data source as the data frame\n",
    "source = ColumnDataSource(who_df)\n",
    "\n",
    "# for tooltips, see same page - the @ things are column names from the defined source \n",
    "TOOLTIPS = [\n",
    "    (\"country\", \"@Country\"),\n",
    "    (\"mortality\", \"@ChildMortality\"),\n",
    "    (\"life exp\", \"@LifeExpectancy\")\n",
    "]\n",
    "\n",
    "# for figure, see https://bokeh.pydata.org/en/latest/docs/reference/plotting.html \n",
    "p = figure(tools=TOOLS,\n",
    "           tooltips=TOOLTIPS,\n",
    "           x_axis_label=\"Child Mortality per 1,000 Live Births\",\n",
    "           y_axis_label=\"Life Expectancy in Years\",\n",
    "           title=\"WHO Data: Child Mortality and Life Expectancy\",\n",
    "           plot_width=900)\n",
    "\n",
    "# for scatter, see https://bokeh.pydata.org/en/latest/docs/gallery/color_scatter.html \n",
    "p.scatter('ChildMortality', 'LifeExpectancy', \n",
    "          source=source,\n",
    "          line_color=\"#6666ee\",\n",
    "          fill_color=\"#ee6666\", \n",
    "          fill_alpha=0.6,\n",
    "          size=16)\n",
    "\n",
    "# if you delete or comment out the next line, chart opens in new browser tab instead\n",
    "output_notebook()\n",
    "\n",
    "# show the chart defined above as \"p\" \n",
    "show(p)\n"
   ]
  },
  {
   "cell_type": "code",
   "execution_count": null,
   "metadata": {},
   "outputs": [],
   "source": [
    "# added code for exporting the chart as stand-alone HTML + JS\n",
    "# https://bokeh.pydata.org/en/latest/docs/user_guide/embed.html \n",
    "from bokeh.resources import CDN\n",
    "from bokeh.embed import file_html\n",
    "\n",
    "# create a complete HTML file (p is the variable from above)\n",
    "html = file_html(p, CDN, \"bokeh_WHO_data\")\n",
    "\n",
    "# regular python to write the file\n",
    "newfile = open('bokeh_WHO_data.html', 'w')\n",
    "newfile.write(html)\n",
    "newfile.close()\n"
   ]
  },
  {
   "cell_type": "markdown",
   "metadata": {},
   "source": [
    "I would like to color the dots by region, but that will wait for another day. "
   ]
  }
 ],
 "metadata": {
  "celltoolbar": "Create Assignment",
  "kernelspec": {
   "display_name": "Python 3",
   "language": "python",
   "name": "python3"
  },
  "language_info": {
   "codemirror_mode": {
    "name": "ipython",
    "version": 3
   },
   "file_extension": ".py",
   "mimetype": "text/x-python",
   "name": "python",
   "nbconvert_exporter": "python",
   "pygments_lexer": "ipython3",
   "version": "3.7.4"
  }
 },
 "nbformat": 4,
 "nbformat_minor": 2
}
