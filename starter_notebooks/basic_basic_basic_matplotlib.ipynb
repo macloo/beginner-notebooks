{
 "cells": [
  {
   "cell_type": "markdown",
   "metadata": {},
   "source": [
    "# Basic basic basic Matplotlib\n",
    "\n",
    "This is the \"starter\" version of this notebook. To run it, make sure you've installed Python 3, Pandas, and Matplotlib.\n",
    "\n",
    "* [Very short video](https://www.youtube.com/watch?v=SiCyTcudoSE) \n",
    "\n",
    "* [Pyplot tutorial](https://matplotlib.org/1.4.2/users/pyplot_tutorial.html); includes a list of options for line charts. \n",
    "\n",
    "* [Text properties and layout](https://matplotlib.org/1.4.2/users/text_props.html)\n",
    "\n",
    "* [Matplotlib colors](https://matplotlib.org/2.0.2/api/colors_api.html)\n",
    "\n",
    "* [List of named colors](https://matplotlib.org/3.1.0/gallery/color/named_colors.html)\n"
   ]
  },
  {
   "cell_type": "code",
   "execution_count": null,
   "metadata": {},
   "outputs": [],
   "source": [
    "import pandas as pd\n",
    "import matplotlib.pyplot as plt\n",
    "%matplotlib notebook"
   ]
  },
  {
   "cell_type": "code",
   "execution_count": null,
   "metadata": {},
   "outputs": [],
   "source": [
    "# create some simple data\n",
    "year = [1950, 1970, 1990, 2010]\n",
    "population = [2.519, 3.692, 5.263, 6.972]"
   ]
  },
  {
   "cell_type": "code",
   "execution_count": null,
   "metadata": {},
   "outputs": [],
   "source": [
    "# draw a plot\n",
    "# x axis first, y axis second \n",
    "plt.plot(year, population)"
   ]
  },
  {
   "cell_type": "code",
   "execution_count": null,
   "metadata": {},
   "outputs": [],
   "source": [
    "# scatterplot \n",
    "# x axis first, y axis second \n",
    "plt.scatter(year, population)"
   ]
  },
  {
   "cell_type": "code",
   "execution_count": null,
   "metadata": {},
   "outputs": [],
   "source": [
    "# add labels to x and y axis\n",
    "plt.ylabel('People on Earth (Billions)')\n",
    "plt.xlabel('YEARS')\n",
    "\n",
    "# title above chart\n",
    "plt.title('Population Growth')\n",
    "\n",
    "plt.scatter(year, population)"
   ]
  },
  {
   "cell_type": "code",
   "execution_count": null,
   "metadata": {},
   "outputs": [],
   "source": [
    "# add gridlines\n",
    "# zorder used to put grid behind dots\n",
    "# basic colors are rgb (red, green, blue) and cmyk (cyan, magenta, yellow, black)\n",
    "# alpha sets transparency\n",
    "\n",
    "fig, ax = plt.subplots()\n",
    "ax.grid(zorder=0, color='r', alpha=0.3)\n",
    "\n",
    "# to make dots larger in scatterplot, use s=number\n",
    "plt.scatter(year, population, zorder=3, color='c', s=200)\n"
   ]
  },
  {
   "cell_type": "markdown",
   "metadata": {},
   "source": [
    "See this [insanely detailed StackOverflow post](https://stackoverflow.com/questions/14827650/pyplot-scatter-plot-marker-size#targetText=The%20standard%20size%20of%20points,is%20hence%201%2F72%20inches.) for more info about markers and dots in Matplotlib plots. "
   ]
  },
  {
   "cell_type": "code",
   "execution_count": null,
   "metadata": {},
   "outputs": [],
   "source": [
    "# here 'rs' means 'red square' and ms= sets the marker size\n",
    "plt.plot(year, population, 'rs', ms=10)"
   ]
  },
  {
   "cell_type": "code",
   "execution_count": null,
   "metadata": {},
   "outputs": [],
   "source": [
    "# here 'c^' means 'cyan triangle' and ms= sets the marker size\n",
    "plt.plot(year, population, 'c^', ms=15)"
   ]
  },
  {
   "cell_type": "markdown",
   "metadata": {},
   "source": [
    "## Import a CSV and plot a dataframe"
   ]
  },
  {
   "cell_type": "code",
   "execution_count": null,
   "metadata": {},
   "outputs": [],
   "source": [
    "# now some pandas work to get data to be plotted \n",
    "# plot 4 countries' GDP per capita using a (tiny) CSV \n",
    "\n",
    "# import CSV \n",
    "df = pd.read_csv('../data/gdp_data_sm.csv')\n",
    "\n",
    "# how many rows, columns?\n",
    "df.shape"
   ]
  },
  {
   "cell_type": "code",
   "execution_count": null,
   "metadata": {
    "scrolled": true
   },
   "outputs": [],
   "source": [
    "# show first 5 rows (there are only 4)\n",
    "df.head()"
   ]
  },
  {
   "cell_type": "markdown",
   "metadata": {},
   "source": [
    "[Data source](https://databank.worldbank.org/reports.aspx?source=2&series=NY.GDP.PCAP.CD&country=#) (World Bank)"
   ]
  },
  {
   "cell_type": "code",
   "execution_count": null,
   "metadata": {
    "scrolled": true
   },
   "outputs": [],
   "source": [
    "# change the index column \n",
    "df = df.set_index('country')"
   ]
  },
  {
   "cell_type": "code",
   "execution_count": null,
   "metadata": {},
   "outputs": [],
   "source": [
    "df.head()"
   ]
  },
  {
   "cell_type": "code",
   "execution_count": null,
   "metadata": {},
   "outputs": [],
   "source": [
    "# note, the index does not count as a \"column\" \n",
    "df.columns"
   ]
  },
  {
   "cell_type": "code",
   "execution_count": null,
   "metadata": {},
   "outputs": [],
   "source": [
    "# check to see whether all values are floats\n",
    "df.dtypes"
   ]
  },
  {
   "cell_type": "code",
   "execution_count": null,
   "metadata": {},
   "outputs": [],
   "source": [
    "# apply a function to divide every value by 1000 before plotting; limit decimal places to 2 \n",
    "# note, all columns must be numeric for this to work \n",
    "df = df.apply( lambda val: round( (val / 1000), 2 ) )"
   ]
  },
  {
   "cell_type": "code",
   "execution_count": null,
   "metadata": {},
   "outputs": [],
   "source": [
    "df.head()"
   ]
  },
  {
   "cell_type": "code",
   "execution_count": null,
   "metadata": {},
   "outputs": [],
   "source": [
    "# ready to plot! \n",
    "# simpler than you might think - see below for what T does\n",
    "df.T.plot()"
   ]
  },
  {
   "cell_type": "code",
   "execution_count": null,
   "metadata": {},
   "outputs": [],
   "source": [
    "# T transforms the table, making a simple plot possible\n",
    "# plot() wants to plot COLUMNS as lines \n",
    "df.T"
   ]
  },
  {
   "cell_type": "markdown",
   "metadata": {},
   "source": [
    "## Make some enhancements to the chart"
   ]
  },
  {
   "cell_type": "code",
   "execution_count": null,
   "metadata": {},
   "outputs": [],
   "source": [
    "# create chart with title above chart\n",
    "ax = df.T.plot(title='GDP Per Capita')\n",
    "\n",
    "# add labels to x and y axis\n",
    "ax.set_xlabel('YEARS')\n",
    "ax.set_ylabel('Thousands (US 2010 dollars)')\n"
   ]
  },
  {
   "cell_type": "code",
   "execution_count": null,
   "metadata": {},
   "outputs": [],
   "source": [
    "# alternative code, same chart\n",
    "plt.figure()\n",
    "df.T.plot(title='GDP Per Capita')\n",
    "plt.xlabel('YEARS')\n",
    "plt.ylabel('Thousands (US 2010 dollars)')\n",
    "plt.show()"
   ]
  },
  {
   "cell_type": "code",
   "execution_count": null,
   "metadata": {},
   "outputs": [],
   "source": [
    "# change the color palette \n",
    "colors=['mediumpurple', 'forestgreen', 'magenta', 'steelblue']\n",
    "\n",
    "plt.figure()\n",
    "df.T.plot(title='GDP Per Capita', color=colors)\n",
    "plt.xlabel('YEARS')\n",
    "plt.ylabel('Thousands (US 2010 dollars)')\n",
    "plt.show()"
   ]
  },
  {
   "cell_type": "code",
   "execution_count": null,
   "metadata": {},
   "outputs": [],
   "source": [
    "# change the line styles\n",
    "styles = ['bs-', 'y^-', 'k^-', 'ro-']\n",
    "\n",
    "plt.figure()\n",
    "df.T.plot(title='GDP Per Capita', style=styles)\n",
    "plt.xlabel('YEARS')\n",
    "plt.ylabel('Thousands (US 2010 dollars)')\n",
    "plt.show()"
   ]
  },
  {
   "cell_type": "code",
   "execution_count": null,
   "metadata": {},
   "outputs": [],
   "source": []
  }
 ],
 "metadata": {
  "kernelspec": {
   "display_name": "Python 3",
   "language": "python",
   "name": "python3"
  },
  "language_info": {
   "codemirror_mode": {
    "name": "ipython",
    "version": 3
   },
   "file_extension": ".py",
   "mimetype": "text/x-python",
   "name": "python",
   "nbconvert_exporter": "python",
   "pygments_lexer": "ipython3",
   "version": "3.7.4"
  }
 },
 "nbformat": 4,
 "nbformat_minor": 2
}
