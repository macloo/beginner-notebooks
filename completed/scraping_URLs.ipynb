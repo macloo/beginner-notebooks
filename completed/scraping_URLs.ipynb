{
 "cells": [
  {
   "cell_type": "markdown",
   "metadata": {},
   "source": [
    "# Scraping URLs and using them to open pages\n",
    "\n",
    "For this demo, we use a page at [The Enough Project](https://enoughproject.org/). The contents of the page are not very long, but the content changes over time, so we might want to monitor it to collect new URLs and data.\n",
    "\n",
    "This is the page: [Take Action](https://enoughproject.org/get-involved/take-action)"
   ]
  },
  {
   "cell_type": "code",
   "execution_count": 121,
   "metadata": {},
   "outputs": [],
   "source": [
    "# load the Python libraries\n",
    "from bs4 import BeautifulSoup\n",
    "import requests"
   ]
  },
  {
   "cell_type": "code",
   "execution_count": 122,
   "metadata": {},
   "outputs": [],
   "source": [
    "# open the main page and copy all its HTML into a variable named `soup`\n",
    "url = 'https://enoughproject.org/get-involved/take-action'\n",
    "html = requests.get(url)\n",
    "soup = BeautifulSoup(html.text, 'html.parser')"
   ]
  },
  {
   "cell_type": "markdown",
   "metadata": {},
   "source": [
    "I want to collect the URLS for all the items in the central part of this page. There are seven items.\n",
    "\n",
    "After I right-click the heading of the first item I want and select **Inspect**, I can see in the Elements pane (of Chrome Developer Tools) that this heading is inside an H6 element.\n",
    "\n",
    "<img src=\"screenshots/enough/sudan_h6.png\" alt=\"Screenshot of Elements inspector pane\" width=934 style=\"margin-left:0;\">\n",
    "\n",
    "I know that most web page headings are H1 or H2, and H6 is uncommon. So I try and see whether perhaps these are the *only* H6 elements on this page."
   ]
  },
  {
   "cell_type": "code",
   "execution_count": 123,
   "metadata": {},
   "outputs": [
    {
     "data": {
      "text/plain": [
       "7"
      ]
     },
     "execution_count": 123,
     "metadata": {},
     "output_type": "execute_result"
    }
   ],
   "source": [
    "# data we want is a set of items that start with h6 headings\n",
    "heads = soup.find_all( 'h6' )\n",
    "\n",
    "# how many of those on the page?\n",
    "len(heads)"
   ]
  },
  {
   "cell_type": "markdown",
   "metadata": {},
   "source": [
    "I'm in luck! There are seven items on the page that I want, and it appears I can grab them with just this &mdash; using their H6 headings."
   ]
  },
  {
   "cell_type": "code",
   "execution_count": 124,
   "metadata": {},
   "outputs": [
    {
     "name": "stdout",
     "output_type": "stream",
     "text": [
      "South Sudan: Support Use of Robust Financial Tools on Actors Highlighted in Sentry Report\n",
      "Tell UK to Address Connections to Human Rights Violations and Corruption in South Sudan\n",
      "South Sudan: Promote the Use of Robust Financial Tools and Support Strong Institutions\n",
      "Support Bipartisan Congo Legislation to Help Dismantle Kleptocratic System\n",
      "Urge Companies to Be Leaders In Creating a Transparent Cobalt Trade in Congo\n",
      "Conflict Gold Trade: Urge the US, EU, and United Nations Security Council to Sanction Gold Smuggling Companies and Networks \n",
      "Tell 20 of the Largest Companies in the World that You Demand the Supply of Products Made with Conflict-Free Minerals from Congo\n"
     ]
    }
   ],
   "source": [
    "# let's check and make sure that's the stuff we want\n",
    "for head in heads:\n",
    "    print(head.text)"
   ]
  },
  {
   "cell_type": "markdown",
   "metadata": {},
   "source": [
    "Success! Those are the headings on the items I want.\n",
    "\n",
    "## Get the URLs too\n",
    "\n",
    "Now, I would also like to get the URL for each of those items.\n",
    "\n",
    "<img src=\"screenshots/enough/sudan_a_href.png\" alt=\"Screenshot of Elements inspector pane with A HREF\" width=705 style=\"margin-left:0;\">\n",
    "\n",
    "By further inspecting the HTML for the page, I see that the A element is inside the H6 element. The A element is what creates a **link** in HTML. The target URL is defined in the HREF attribute, inside the A element."
   ]
  },
  {
   "cell_type": "code",
   "execution_count": 125,
   "metadata": {},
   "outputs": [
    {
     "name": "stdout",
     "output_type": "stream",
     "text": [
      "South Sudan: Support Use of Robust Financial Tools on Actors Highlighted in Sentry Report\n",
      "https://enoughproject.org/get-involved/take-action/south-sudan-support-use-robust-financial-tools-actors-highlighted-sentry-report\n",
      "\n",
      "Tell UK to Address Connections to Human Rights Violations and Corruption in South Sudan\n",
      "https://enoughproject.org/get-involved/take-action/tell-uk-address-connections-human-rights-violations-corruption-south-sudan\n",
      "\n",
      "South Sudan: Promote the Use of Robust Financial Tools and Support Strong Institutions\n",
      "https://enoughproject.org/get-involved/take-action/south-sudan-financial-tools\n",
      "\n",
      "Support Bipartisan Congo Legislation to Help Dismantle Kleptocratic System\n",
      "https://enoughproject.org/get-involved/take-action/bipartisan-congo-legislation\n",
      "\n",
      "Urge Companies to Be Leaders In Creating a Transparent Cobalt Trade in Congo\n",
      "https://enoughproject.org/get-involved/take-action/companies-leaders-cobalt\n",
      "\n",
      "Conflict Gold Trade: Urge the US, EU, and United Nations Security Council to Sanction Gold Smuggling Companies and Networks \n",
      "https://enoughproject.org/get-involved/take-action/conflict-gold-trade\n",
      "\n",
      "Tell 20 of the Largest Companies in the World that You Demand the Supply of Products Made with Conflict-Free Minerals from Congo\n",
      "https://enoughproject.org/get-involved/take-action/demand-the-supply-products-conflict-free\n",
      "\n"
     ]
    }
   ],
   "source": [
    "# let's get the URL for each of those heads too\n",
    "# HREF is an attribute of the A element - it holds the URL \n",
    "\n",
    "for head in heads:\n",
    "    print(head.text)\n",
    "    url = head.find('a')\n",
    "    print(url.attrs['href'])\n",
    "    print()"
   ]
  },
  {
   "cell_type": "markdown",
   "metadata": {},
   "source": [
    "## Can we use the URLs to navigate to other pages?\n",
    "\n",
    "Yes. But first, let's look at what we want to get from those other pages.\n",
    "\n",
    "## Scrape a URL based on its link text\n",
    "\n",
    "Now we come to a trickier and cooler goal to accomplish: Sometimes on the linked page we are working with here, there is a further link to a longer report about the situation. I would like to get the URL for any such report linked on the page. **Only some of the linked pages have this report link.** Others do not.\n",
    "\n",
    "On one of the pages that DOES have a report link ([Conflict Gold Trade: Urge the US, EU, and United Nations Security Council to ...](https://enoughproject.org/get-involved/take-action/conflict-gold-trade)), I inspect that report link and see that there's not a good element name or class or ID to work with in the HTML, to help me grab that report URL. \n",
    "\n",
    "<img src=\"screenshots/enough/sudan_report_link.png\" alt=\"Screenshot of Elements inspector pane showing A element and text\" width=708 style=\"margin-left:0;\">\n",
    "\n",
    "However, I can use *the unique text in the link* to help me."
   ]
  },
  {
   "cell_type": "code",
   "execution_count": 126,
   "metadata": {},
   "outputs": [],
   "source": [
    "# this is a different page, so I need to make `soup` again - call it `soup2` this time\n",
    "# open the main page and copy all its HTML into a variable named `soup`\n",
    "\n",
    "url = 'https://enoughproject.org/get-involved/take-action/conflict-gold-trade'\n",
    "html = requests.get(url)\n",
    "soup2 = BeautifulSoup(html.text, 'html.parser')"
   ]
  },
  {
   "cell_type": "code",
   "execution_count": 127,
   "metadata": {},
   "outputs": [
    {
     "data": {
      "text/plain": [
       "112"
      ]
     },
     "execution_count": 127,
     "metadata": {},
     "output_type": "execute_result"
    }
   ],
   "source": [
    "# collect all A elements on the page\n",
    "a_list = soup2.find_all( 'a' )\n",
    "len(a_list)"
   ]
  },
  {
   "cell_type": "code",
   "execution_count": 128,
   "metadata": {},
   "outputs": [
    {
     "name": "stdout",
     "output_type": "stream",
     "text": [
      "For more information, read The Sentry’s recent report >\n",
      "https://eno.ug/2P7K14G\n"
     ]
    }
   ],
   "source": [
    "# now find out if more than one of those has the word \"report\" in the linked text\n",
    "for a in a_list:\n",
    "    if \"report\" in a.text:\n",
    "        print(a.text)\n",
    "        print(a.attrs['href'])"
   ]
  },
  {
   "cell_type": "markdown",
   "metadata": {},
   "source": [
    "## Expand a shortened URL\n",
    "\n",
    "So I can get that URL &mdash; in this case, it is a shortened URL. *Ugh.* I want the full, *regular* URL. But I can get that!"
   ]
  },
  {
   "cell_type": "code",
   "execution_count": 129,
   "metadata": {},
   "outputs": [
    {
     "data": {
      "text/plain": [
       "'https://thesentry.org/reports/the-golden-laundromat/'"
      ]
     },
     "execution_count": 129,
     "metadata": {},
     "output_type": "execute_result"
    }
   ],
   "source": [
    "r = requests.get('https://eno.ug/2P7K14G')\n",
    "r.url"
   ]
  },
  {
   "cell_type": "markdown",
   "metadata": {},
   "source": [
    "## Continue solving the main problem\n",
    "\n",
    "So now I have to think how to get from my first page &mdash; https://enoughproject.org/get-involved/take-action &mdash; to each of the linked pages.\n",
    "\n",
    "Then, on each linked page, I will need to check for a URL that leads to a report. There MAY, or may NOT, be one of these.\n",
    "\n",
    "And finally, if I find such a link, I need to expand the URL if it is a shortened URL.\n",
    "\n",
    "First, I will make a Python list of dictionaries out of the headings and URLs so I can loop over them."
   ]
  },
  {
   "cell_type": "code",
   "execution_count": 130,
   "metadata": {},
   "outputs": [
    {
     "name": "stdout",
     "output_type": "stream",
     "text": [
      "[{'title': 'South Sudan: Support Use of Robust Financial Tools on Actors Highlighted in Sentry Report', 'url': 'https://enoughproject.org/get-involved/take-action/south-sudan-support-use-robust-financial-tools-actors-highlighted-sentry-report'}, {'title': 'Tell UK to Address Connections to Human Rights Violations and Corruption in South Sudan', 'url': 'https://enoughproject.org/get-involved/take-action/tell-uk-address-connections-human-rights-violations-corruption-south-sudan'}, {'title': 'South Sudan: Promote the Use of Robust Financial Tools and Support Strong Institutions', 'url': 'https://enoughproject.org/get-involved/take-action/south-sudan-financial-tools'}, {'title': 'Support Bipartisan Congo Legislation to Help Dismantle Kleptocratic System', 'url': 'https://enoughproject.org/get-involved/take-action/bipartisan-congo-legislation'}, {'title': 'Urge Companies to Be Leaders In Creating a Transparent Cobalt Trade in Congo', 'url': 'https://enoughproject.org/get-involved/take-action/companies-leaders-cobalt'}, {'title': 'Conflict Gold Trade: Urge the US, EU, and United Nations Security Council to Sanction Gold Smuggling Companies and Networks ', 'url': 'https://enoughproject.org/get-involved/take-action/conflict-gold-trade'}, {'title': 'Tell 20 of the Largest Companies in the World that You Demand the Supply of Products Made with Conflict-Free Minerals from Congo', 'url': 'https://enoughproject.org/get-involved/take-action/demand-the-supply-products-conflict-free'}]\n"
     ]
    }
   ],
   "source": [
    "heads = soup.find_all( 'h6' )\n",
    "\n",
    "# create a new, empty Python list to hold dictionaries\n",
    "enough_dictlist = []\n",
    "\n",
    "# this is code adapted from code used above to just print \n",
    "for head in heads:\n",
    "    new_dict = {}\n",
    "    new_dict['title'] = head.text\n",
    "    url = head.find('a')\n",
    "    new_dict['url'] = url.attrs['href']\n",
    "    # add it to the list\n",
    "    enough_dictlist.append(new_dict)\n",
    "\n",
    "# print the complete list of dictionaries  \n",
    "print(enough_dictlist)"
   ]
  },
  {
   "cell_type": "code",
   "execution_count": 131,
   "metadata": {},
   "outputs": [
    {
     "name": "stdout",
     "output_type": "stream",
     "text": [
      "South Sudan: Support Use of Robust Financial Tools on Actors Highlighted in Sentry Report\n",
      "https://enoughproject.org/get-involved/take-action/south-sudan-support-use-robust-financial-tools-actors-highlighted-sentry-report\n",
      "\n",
      "Tell UK to Address Connections to Human Rights Violations and Corruption in South Sudan\n",
      "https://enoughproject.org/get-involved/take-action/tell-uk-address-connections-human-rights-violations-corruption-south-sudan\n",
      "\n",
      "South Sudan: Promote the Use of Robust Financial Tools and Support Strong Institutions\n",
      "https://enoughproject.org/get-involved/take-action/south-sudan-financial-tools\n",
      "\n",
      "Support Bipartisan Congo Legislation to Help Dismantle Kleptocratic System\n",
      "https://enoughproject.org/get-involved/take-action/bipartisan-congo-legislation\n",
      "\n",
      "Urge Companies to Be Leaders In Creating a Transparent Cobalt Trade in Congo\n",
      "https://enoughproject.org/get-involved/take-action/companies-leaders-cobalt\n",
      "\n",
      "Conflict Gold Trade: Urge the US, EU, and United Nations Security Council to Sanction Gold Smuggling Companies and Networks \n",
      "https://enoughproject.org/get-involved/take-action/conflict-gold-trade\n",
      "\n",
      "Tell 20 of the Largest Companies in the World that You Demand the Supply of Products Made with Conflict-Free Minerals from Congo\n",
      "https://enoughproject.org/get-involved/take-action/demand-the-supply-products-conflict-free\n",
      "\n"
     ]
    }
   ],
   "source": [
    "# alternatively, we can  print values (or keys AND values) from each dictionary in a prettier way\n",
    "\n",
    "#loop over the list\n",
    "for dict in enough_dictlist:\n",
    "    for v in dict.values():\n",
    "        print(v)\n",
    "    # next line puts a blank line between dicts\n",
    "    print()\n"
   ]
  },
  {
   "cell_type": "markdown",
   "metadata": {},
   "source": [
    "## Use the list of titles and URLs to go to the linked page\n",
    "\n",
    "... and get the additional link (to a full report), *if there is one.* To do so, we will loop over the list of dictionaries like we just did &mdash; but we will use the URL to open a page, where we will look for the full report link.\n",
    "\n",
    "If there is such a link, we will try to expand it. Then we will add the report URL to the current dictionary.\n"
   ]
  },
  {
   "cell_type": "code",
   "execution_count": 132,
   "metadata": {},
   "outputs": [],
   "source": [
    "# function based on previous code, above \n",
    "def get_report_link(newsoup):\n",
    "    # new empty list\n",
    "    report_urls = []\n",
    "    # collect all A elements on the page\n",
    "    a_list = newsoup.find_all( 'a' )\n",
    "    # now find all of those that have the word \"report\" in the linked text\n",
    "    for a in a_list:\n",
    "        if \"report\" in a.text:\n",
    "            # get epapnded url \n",
    "            r = requests.get(a.attrs['href'])\n",
    "            report_urls.append(r.url)\n",
    "    return report_urls\n"
   ]
  },
  {
   "cell_type": "code",
   "execution_count": 136,
   "metadata": {
    "scrolled": false
   },
   "outputs": [
    {
     "name": "stdout",
     "output_type": "stream",
     "text": [
      "More than one report for \"South Sudan: Support Use of Robust Financial Tools on Actors Highlighted in Sentry Report\"\n",
      "['https://thesentry.org/reports/taking-south-sudan/', 'https://thesentry.org/reports/taking-south-sudan/']\n"
     ]
    }
   ],
   "source": [
    "# loop over the list of dictionaries\n",
    "for dict in enough_dictlist:\n",
    "    # open one page and copy all its HTML into `newsoup`\n",
    "    url = dict['url']\n",
    "    html = requests.get(url)\n",
    "    newsoup = BeautifulSoup(html.text, 'html.parser')\n",
    "    # run the function\n",
    "    urls = get_report_link(newsoup)\n",
    "    if len(urls) >= 1:\n",
    "        dict['report_url'] = urls[0]\n",
    "    if len(urls) > 1:\n",
    "        print('More than one report for \"' + dict['title'] + '\"')\n",
    "        print(urls)\n"
   ]
  },
  {
   "cell_type": "markdown",
   "metadata": {},
   "source": [
    "I am using a bit of \"print-statement debugging\" here, which is not the greatest, but I'm trying to keep this code on a beginner level."
   ]
  },
  {
   "cell_type": "code",
   "execution_count": 137,
   "metadata": {},
   "outputs": [
    {
     "name": "stdout",
     "output_type": "stream",
     "text": [
      "title: South Sudan: Support Use of Robust Financial Tools on Actors Highlighted in Sentry Report\n",
      "url: https://enoughproject.org/get-involved/take-action/south-sudan-support-use-robust-financial-tools-actors-highlighted-sentry-report\n",
      "report_url: https://thesentry.org/reports/taking-south-sudan/\n",
      "\n",
      "title: Tell UK to Address Connections to Human Rights Violations and Corruption in South Sudan\n",
      "url: https://enoughproject.org/get-involved/take-action/tell-uk-address-connections-human-rights-violations-corruption-south-sudan\n",
      "report_url: https://thesentry.org/reports/taking-south-sudan/\n",
      "\n",
      "title: South Sudan: Promote the Use of Robust Financial Tools and Support Strong Institutions\n",
      "url: https://enoughproject.org/get-involved/take-action/south-sudan-financial-tools\n",
      "\n",
      "title: Support Bipartisan Congo Legislation to Help Dismantle Kleptocratic System\n",
      "url: https://enoughproject.org/get-involved/take-action/bipartisan-congo-legislation\n",
      "\n",
      "title: Urge Companies to Be Leaders In Creating a Transparent Cobalt Trade in Congo\n",
      "url: https://enoughproject.org/get-involved/take-action/companies-leaders-cobalt\n",
      "\n",
      "title: Conflict Gold Trade: Urge the US, EU, and United Nations Security Council to Sanction Gold Smuggling Companies and Networks \n",
      "url: https://enoughproject.org/get-involved/take-action/conflict-gold-trade\n",
      "report_url: https://thesentry.org/reports/the-golden-laundromat/\n",
      "\n",
      "title: Tell 20 of the Largest Companies in the World that You Demand the Supply of Products Made with Conflict-Free Minerals from Congo\n",
      "url: https://enoughproject.org/get-involved/take-action/demand-the-supply-products-conflict-free\n",
      "\n"
     ]
    }
   ],
   "source": [
    "# print the values from the dictionaries\n",
    "\n",
    "for dict in enough_dictlist:\n",
    "    for k, v in dict.items():\n",
    "        print(k + \": \" + v),\n",
    "    # next line puts a blank line between dicts\n",
    "    print()\n"
   ]
  },
  {
   "cell_type": "markdown",
   "metadata": {},
   "source": [
    "You see that only three of the seven current items has a REPORT LINK on its page. Two of them link to the SAME report. The fact that this data set is so small might make it seem too much work for the result &mdash; but keep in mind the same techniques can be used for other pages, other websites, with far more data."
   ]
  }
 ],
 "metadata": {
  "kernelspec": {
   "display_name": "Python 3",
   "language": "python",
   "name": "python3"
  },
  "language_info": {
   "codemirror_mode": {
    "name": "ipython",
    "version": 3
   },
   "file_extension": ".py",
   "mimetype": "text/x-python",
   "name": "python",
   "nbconvert_exporter": "python",
   "pygments_lexer": "ipython3",
   "version": "3.7.4"
  }
 },
 "nbformat": 4,
 "nbformat_minor": 2
}
