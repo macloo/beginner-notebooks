{
 "cells": [
  {
   "cell_type": "markdown",
   "metadata": {
    "nbgrader": {
     "grade": false,
     "grade_id": "dox",
     "locked": true,
     "schema_version": 1,
     "solution": false
    }
   },
   "source": [
    "# Module 7 Assignment\n",
    "\n",
    "In this module, we've learned a lot about data visualization. Now I want you to use what you've learned to build some visuals with a few datasets.\n",
    "\n",
    "### How does this work?\n",
    "\n",
    "Everywhere in the notebook where you see `# YOUR CODE HERE`, you need to insert an answer. \n",
    "Make sure to remove the `raise NotImplementedError` code so your code will successfully run. :)\n",
    "\n",
    "Please run the cell once you have input the answer to see if it runs properly. \n",
    "\n",
    "### Debugging Notes\n",
    "\n",
    "The debugging notes section at the bottom is there for you to add your thoughts on the assignment. Please make sure to put something, even if the assignment was a breeze!"
   ]
  },
  {
   "cell_type": "code",
   "execution_count": 311,
   "metadata": {
    "nbgrader": {
     "grade": false,
     "grade_id": "imports",
     "locked": true,
     "schema_version": 1,
     "solution": false
    }
   },
   "outputs": [
    {
     "name": "stdout",
     "output_type": "stream",
     "text": [
      "Populating the interactive namespace from numpy and matplotlib\n"
     ]
    }
   ],
   "source": [
    "import pandas as pd\n",
    "%pylab inline"
   ]
  },
  {
   "cell_type": "markdown",
   "metadata": {
    "nbgrader": {
     "grade": false,
     "grade_id": "01_dox",
     "locked": true,
     "schema_version": 1,
     "solution": false
    }
   },
   "source": [
    "## Part 1: Pandas, Matplotlib and the Titanic (3 points)\n",
    "\n",
    "Use the `full_titanic.csv` from the `data` folder. Import into Pandas and build a simple chart. Take time to explore the data and a few charts before deciding on one you like. Include the code of your investigation and reasoning. Make sure to also answer the **\"Your chart choice\"** section below.\n",
    "\n",
    "By the way, `survived == 1` are those who survived.\n",
    "\n",
    "Some ideas for possible charts (you are free to use these, or come up with your own!):\n",
    "\n",
    "- A chart showing age comparisons or distribution (survival vs. death)\n",
    "- A chart showing gender comparisons or distribution (survival vs. death)\n",
    "- A chart using Passenger Class and x (x being any other point of data &mdash; including survival vs. death)\n",
    "\n",
    "HINT: Take a look at the Pandas user guide [Visualization](https://pandas.pydata.org/pandas-docs/stable/user_guide/visualization.html) section to see built-in \"plot\" types. \n"
   ]
  },
  {
   "cell_type": "code",
   "execution_count": 312,
   "metadata": {
    "nbgrader": {
     "grade": true,
     "grade_id": "01_sol",
     "locked": false,
     "points": 3,
     "schema_version": 1,
     "solution": true
    },
    "scrolled": true
   },
   "outputs": [
    {
     "data": {
      "text/html": [
       "<div>\n",
       "<style scoped>\n",
       "    .dataframe tbody tr th:only-of-type {\n",
       "        vertical-align: middle;\n",
       "    }\n",
       "\n",
       "    .dataframe tbody tr th {\n",
       "        vertical-align: top;\n",
       "    }\n",
       "\n",
       "    .dataframe thead th {\n",
       "        text-align: right;\n",
       "    }\n",
       "</style>\n",
       "<table border=\"1\" class=\"dataframe\">\n",
       "  <thead>\n",
       "    <tr style=\"text-align: right;\">\n",
       "      <th></th>\n",
       "      <th>Survived</th>\n",
       "      <th>Pclass</th>\n",
       "      <th>Name</th>\n",
       "      <th>Sex</th>\n",
       "      <th>Age</th>\n",
       "      <th>Siblings/Spouses Aboard</th>\n",
       "      <th>Parents/Children Aboard</th>\n",
       "      <th>Fare</th>\n",
       "    </tr>\n",
       "  </thead>\n",
       "  <tbody>\n",
       "    <tr>\n",
       "      <th>0</th>\n",
       "      <td>0</td>\n",
       "      <td>3</td>\n",
       "      <td>Mr. Owen Harris Braund</td>\n",
       "      <td>male</td>\n",
       "      <td>22.0</td>\n",
       "      <td>1</td>\n",
       "      <td>0</td>\n",
       "      <td>7.2500</td>\n",
       "    </tr>\n",
       "    <tr>\n",
       "      <th>1</th>\n",
       "      <td>1</td>\n",
       "      <td>1</td>\n",
       "      <td>Mrs. John Bradley (Florence Briggs Thayer) Cum...</td>\n",
       "      <td>female</td>\n",
       "      <td>38.0</td>\n",
       "      <td>1</td>\n",
       "      <td>0</td>\n",
       "      <td>71.2833</td>\n",
       "    </tr>\n",
       "    <tr>\n",
       "      <th>2</th>\n",
       "      <td>1</td>\n",
       "      <td>3</td>\n",
       "      <td>Miss. Laina Heikkinen</td>\n",
       "      <td>female</td>\n",
       "      <td>26.0</td>\n",
       "      <td>0</td>\n",
       "      <td>0</td>\n",
       "      <td>7.9250</td>\n",
       "    </tr>\n",
       "    <tr>\n",
       "      <th>3</th>\n",
       "      <td>1</td>\n",
       "      <td>1</td>\n",
       "      <td>Mrs. Jacques Heath (Lily May Peel) Futrelle</td>\n",
       "      <td>female</td>\n",
       "      <td>35.0</td>\n",
       "      <td>1</td>\n",
       "      <td>0</td>\n",
       "      <td>53.1000</td>\n",
       "    </tr>\n",
       "    <tr>\n",
       "      <th>4</th>\n",
       "      <td>0</td>\n",
       "      <td>3</td>\n",
       "      <td>Mr. William Henry Allen</td>\n",
       "      <td>male</td>\n",
       "      <td>35.0</td>\n",
       "      <td>0</td>\n",
       "      <td>0</td>\n",
       "      <td>8.0500</td>\n",
       "    </tr>\n",
       "  </tbody>\n",
       "</table>\n",
       "</div>"
      ],
      "text/plain": [
       "   Survived  Pclass                                               Name  \\\n",
       "0         0       3                             Mr. Owen Harris Braund   \n",
       "1         1       1  Mrs. John Bradley (Florence Briggs Thayer) Cum...   \n",
       "2         1       3                              Miss. Laina Heikkinen   \n",
       "3         1       1        Mrs. Jacques Heath (Lily May Peel) Futrelle   \n",
       "4         0       3                            Mr. William Henry Allen   \n",
       "\n",
       "      Sex   Age  Siblings/Spouses Aboard  Parents/Children Aboard     Fare  \n",
       "0    male  22.0                        1                        0   7.2500  \n",
       "1  female  38.0                        1                        0  71.2833  \n",
       "2  female  26.0                        0                        0   7.9250  \n",
       "3  female  35.0                        1                        0  53.1000  \n",
       "4    male  35.0                        0                        0   8.0500  "
      ]
     },
     "execution_count": 312,
     "metadata": {},
     "output_type": "execute_result"
    }
   ],
   "source": [
    "# YOUR CODE HERE\n",
    "df = pd.read_csv('data/titanic.csv')\n",
    "df.head()"
   ]
  },
  {
   "cell_type": "code",
   "execution_count": 313,
   "metadata": {},
   "outputs": [
    {
     "data": {
      "text/plain": [
       "(887, 8)"
      ]
     },
     "execution_count": 313,
     "metadata": {},
     "output_type": "execute_result"
    }
   ],
   "source": [
    "df.shape"
   ]
  },
  {
   "cell_type": "code",
   "execution_count": 314,
   "metadata": {
    "scrolled": true
   },
   "outputs": [
    {
     "data": {
      "text/plain": [
       "3    487\n",
       "1    216\n",
       "2    184\n",
       "Name: Pclass, dtype: int64"
      ]
     },
     "execution_count": 314,
     "metadata": {},
     "output_type": "execute_result"
    }
   ],
   "source": [
    "# how many people in each class?\n",
    "df.Pclass.value_counts()"
   ]
  },
  {
   "cell_type": "code",
   "execution_count": 315,
   "metadata": {},
   "outputs": [
    {
     "data": {
      "text/plain": [
       "male      573\n",
       "female    314\n",
       "Name: Sex, dtype: int64"
      ]
     },
     "execution_count": 315,
     "metadata": {},
     "output_type": "execute_result"
    }
   ],
   "source": [
    "# how many people of each gender?\n",
    "df.Sex.value_counts()"
   ]
  },
  {
   "cell_type": "code",
   "execution_count": 316,
   "metadata": {},
   "outputs": [
    {
     "data": {
      "text/plain": [
       "0    545\n",
       "1    342\n",
       "Name: Survived, dtype: int64"
      ]
     },
     "execution_count": 316,
     "metadata": {},
     "output_type": "execute_result"
    }
   ],
   "source": [
    "# how many people survived or did not?\n",
    "df.Survived.value_counts()"
   ]
  },
  {
   "cell_type": "code",
   "execution_count": 317,
   "metadata": {},
   "outputs": [
    {
     "data": {
      "text/plain": [
       "Index(['Survived', 'Pclass', 'Name', 'Sex', 'Age', 'Siblings/Spouses Aboard',\n",
       "       'Parents/Children Aboard', 'Fare'],\n",
       "      dtype='object')"
      ]
     },
     "execution_count": 317,
     "metadata": {},
     "output_type": "execute_result"
    }
   ],
   "source": [
    "# get all the column names\n",
    "df.columns"
   ]
  },
  {
   "cell_type": "code",
   "execution_count": 318,
   "metadata": {
    "scrolled": true
   },
   "outputs": [
    {
     "data": {
      "text/html": [
       "<div>\n",
       "<style scoped>\n",
       "    .dataframe tbody tr th:only-of-type {\n",
       "        vertical-align: middle;\n",
       "    }\n",
       "\n",
       "    .dataframe tbody tr th {\n",
       "        vertical-align: top;\n",
       "    }\n",
       "\n",
       "    .dataframe thead th {\n",
       "        text-align: right;\n",
       "    }\n",
       "</style>\n",
       "<table border=\"1\" class=\"dataframe\">\n",
       "  <thead>\n",
       "    <tr style=\"text-align: right;\">\n",
       "      <th></th>\n",
       "      <th>Survived</th>\n",
       "      <th>Pclass</th>\n",
       "      <th>Sex</th>\n",
       "    </tr>\n",
       "  </thead>\n",
       "  <tbody>\n",
       "    <tr>\n",
       "      <th>341</th>\n",
       "      <td>0</td>\n",
       "      <td>2</td>\n",
       "      <td>male</td>\n",
       "    </tr>\n",
       "    <tr>\n",
       "      <th>391</th>\n",
       "      <td>1</td>\n",
       "      <td>1</td>\n",
       "      <td>female</td>\n",
       "    </tr>\n",
       "    <tr>\n",
       "      <th>136</th>\n",
       "      <td>0</td>\n",
       "      <td>1</td>\n",
       "      <td>male</td>\n",
       "    </tr>\n",
       "    <tr>\n",
       "      <th>520</th>\n",
       "      <td>1</td>\n",
       "      <td>1</td>\n",
       "      <td>female</td>\n",
       "    </tr>\n",
       "    <tr>\n",
       "      <th>318</th>\n",
       "      <td>0</td>\n",
       "      <td>3</td>\n",
       "      <td>male</td>\n",
       "    </tr>\n",
       "    <tr>\n",
       "      <th>14</th>\n",
       "      <td>0</td>\n",
       "      <td>3</td>\n",
       "      <td>female</td>\n",
       "    </tr>\n",
       "    <tr>\n",
       "      <th>618</th>\n",
       "      <td>1</td>\n",
       "      <td>1</td>\n",
       "      <td>male</td>\n",
       "    </tr>\n",
       "    <tr>\n",
       "      <th>544</th>\n",
       "      <td>1</td>\n",
       "      <td>2</td>\n",
       "      <td>male</td>\n",
       "    </tr>\n",
       "  </tbody>\n",
       "</table>\n",
       "</div>"
      ],
      "text/plain": [
       "     Survived  Pclass     Sex\n",
       "341         0       2    male\n",
       "391         1       1  female\n",
       "136         0       1    male\n",
       "520         1       1  female\n",
       "318         0       3    male\n",
       "14          0       3  female\n",
       "618         1       1    male\n",
       "544         1       2    male"
      ]
     },
     "execution_count": 318,
     "metadata": {},
     "output_type": "execute_result"
    }
   ],
   "source": [
    "# I want Survived, Pclass, Sex. I want to stack up M & F for each Pclass. \n",
    "# Y axis will be how many people.\n",
    "# X axis will be Pclass. Column chart. Stacked bar. Stack will separate M & F.\n",
    "\n",
    "# make a short list of just columns I want in chart\n",
    "column_names  = ['Survived', 'Pclass', 'Sex']\n",
    "\n",
    "# make new dataframe with only those columns\n",
    "df2 = df[column_names]\n",
    "\n",
    "# check a sample to see how df2 looks\n",
    "df2.sample(8)"
   ]
  },
  {
   "cell_type": "code",
   "execution_count": 319,
   "metadata": {
    "scrolled": true
   },
   "outputs": [
    {
     "data": {
      "text/plain": [
       "<matplotlib.axes._subplots.AxesSubplot at 0x12ba9dd10>"
      ]
     },
     "execution_count": 319,
     "metadata": {},
     "output_type": "execute_result"
    },
    {
     "data": {
      "image/png": "[encoded data removed]",
      "text/plain": [
       "<Figure size 432x288 with 1 Axes>"
      ]
     },
     "metadata": {
      "needs_background": "light"
     },
     "output_type": "display_data"
    }
   ],
   "source": [
    "# figured this out from https://stackoverflow.com/questions/23415500/pandas-plotting-a-stacked-bar-chart \n",
    "\n",
    "df2.groupby(['Pclass','Sex','Survived'])['Survived'].count().plot(kind='bar')\n"
   ]
  },
  {
   "cell_type": "markdown",
   "metadata": {},
   "source": [
    "Now I have figured out how to show the data I want: how many males, females, in each passenger class (1, 2 or 3), survived or not (1 or 0). But they are all separated into their own columns. I want to make them stack. How?\n",
    "\n",
    "I'm looking at that tall column (3, male, 0), which mean males in 3rd class who did not survive.\n",
    "\n",
    "Next I'm going to make a simple chart showing ONLY survivors. Notice how I get only the rowst have 1 in the Survived column — and I store that as a new dataframe named `sur`."
   ]
  },
  {
   "cell_type": "code",
   "execution_count": 320,
   "metadata": {
    "scrolled": true
   },
   "outputs": [
    {
     "data": {
      "text/plain": [
       "<matplotlib.axes._subplots.AxesSubplot at 0x12bfe83d0>"
      ]
     },
     "execution_count": 320,
     "metadata": {},
     "output_type": "execute_result"
    },
    {
     "data": {
      "image/png": "[encoded data removed]",
      "text/plain": [
       "<Figure size 432x288 with 1 Axes>"
      ]
     },
     "metadata": {
      "needs_background": "light"
     },
     "output_type": "display_data"
    }
   ],
   "source": [
    "# using df2, make a new dataframe that includes only survivors\n",
    "sur = df2[df2.Survived == 1]\n",
    "\n",
    "# using that new dataframe, make a new bar chart\n",
    "sur.groupby(['Pclass','Sex'])['Survived'].count().plot.bar()"
   ]
  },
  {
   "cell_type": "markdown",
   "metadata": {},
   "source": [
    "Note how the next chart shows the opposite of the chart above. Above: Survivors only. Below: Dead only. Note the difference in the vertical Y axis."
   ]
  },
  {
   "cell_type": "code",
   "execution_count": 321,
   "metadata": {
    "scrolled": true
   },
   "outputs": [
    {
     "data": {
      "text/plain": [
       "<matplotlib.axes._subplots.AxesSubplot at 0x12c47ead0>"
      ]
     },
     "execution_count": 321,
     "metadata": {},
     "output_type": "execute_result"
    },
    {
     "data": {
      "image/png": "[encoded data removed]",
      "text/plain": [
       "<Figure size 432x288 with 1 Axes>"
      ]
     },
     "metadata": {
      "needs_background": "light"
     },
     "output_type": "display_data"
    }
   ],
   "source": [
    "# using df2, make a new dataframe that includes only the dead\n",
    "died = df2[df2.Survived == 0]\n",
    "\n",
    "# using that new dataframe, make a new bar chart\n",
    "died.groupby(['Pclass','Sex'])['Survived'].count().plot.bar()"
   ]
  },
  {
   "cell_type": "markdown",
   "metadata": {},
   "source": [
    "Great — but still not a stacked bar chart like I wanted."
   ]
  },
  {
   "cell_type": "code",
   "execution_count": 322,
   "metadata": {
    "scrolled": true
   },
   "outputs": [
    {
     "data": {
      "text/plain": [
       "Pclass  Sex     Survived\n",
       "1       female  0             3\n",
       "                1            91\n",
       "        male    0            77\n",
       "                1            45\n",
       "2       female  0             6\n",
       "                1            70\n",
       "        male    0            91\n",
       "                1            17\n",
       "3       female  0            72\n",
       "                1            72\n",
       "        male    0           296\n",
       "                1            47\n",
       "Name: Survived, dtype: int64"
      ]
     },
     "execution_count": 322,
     "metadata": {},
     "output_type": "execute_result"
    }
   ],
   "source": [
    "# back to something I had earlier - but without the chart\n",
    "df2.groupby(['Pclass','Sex','Survived'])['Survived'].count()"
   ]
  },
  {
   "cell_type": "code",
   "execution_count": 323,
   "metadata": {},
   "outputs": [
    {
     "data": {
      "text/plain": [
       "296"
      ]
     },
     "execution_count": 323,
     "metadata": {},
     "output_type": "execute_result"
    }
   ],
   "source": [
    "# what if I save that as all_grps\n",
    "all_grps = df2.groupby(['Pclass','Sex','Survived'])['Survived'].count()\n",
    "\n",
    "# can I use the counts from that dataframe? Yes!\n",
    "# this gives me the count for 3rd class, male, 0 (did not survive)\n",
    "all_grps[3][2]"
   ]
  },
  {
   "cell_type": "code",
   "execution_count": 324,
   "metadata": {},
   "outputs": [
    {
     "data": {
      "text/plain": [
       "91"
      ]
     },
     "execution_count": 324,
     "metadata": {},
     "output_type": "execute_result"
    }
   ],
   "source": [
    "# this gives me the count for 1st class, female, 1 (survived)\n",
    "all_grps[1][1]"
   ]
  },
  {
   "cell_type": "markdown",
   "metadata": {},
   "source": [
    "That was interesting, but it did not seem very helpful. On to a new attempt."
   ]
  },
  {
   "cell_type": "code",
   "execution_count": 325,
   "metadata": {
    "scrolled": true
   },
   "outputs": [
    {
     "data": {
      "text/plain": [
       "<matplotlib.axes._subplots.AxesSubplot at 0x12cb68050>"
      ]
     },
     "execution_count": 325,
     "metadata": {},
     "output_type": "execute_result"
    },
    {
     "data": {
      "image/png": "[encoded data removed]",
      "text/plain": [
       "<Figure size 432x288 with 1 Axes>"
      ]
     },
     "metadata": {
      "needs_background": "light"
     },
     "output_type": "display_data"
    }
   ],
   "source": [
    "# only people who died, using new dataframe \"died\" from earlier\n",
    "died.groupby(['Pclass','Sex'])['Survived'].count().unstack().plot.bar(stacked=True)"
   ]
  },
  {
   "cell_type": "code",
   "execution_count": 326,
   "metadata": {
    "scrolled": true
   },
   "outputs": [
    {
     "data": {
      "text/plain": [
       "<matplotlib.axes._subplots.AxesSubplot at 0x12d337f90>"
      ]
     },
     "execution_count": 326,
     "metadata": {},
     "output_type": "execute_result"
    },
    {
     "data": {
      "image/png": "[encoded data removed]",
      "text/plain": [
       "<Figure size 432x288 with 1 Axes>"
      ]
     },
     "metadata": {
      "needs_background": "light"
     },
     "output_type": "display_data"
    }
   ],
   "source": [
    "# only people who survived, using new dataframe \"sur\" from earlier\n",
    "sur.groupby(['Pclass','Sex'])['Survived'].count().unstack().plot.bar(stacked=True)"
   ]
  },
  {
   "cell_type": "markdown",
   "metadata": {},
   "source": [
    "I would *really* like to get the survivors and the dead into one chart. But I have not quite figured that out."
   ]
  },
  {
   "cell_type": "markdown",
   "metadata": {
    "nbgrader": {
     "grade": false,
     "grade_id": "01_expl",
     "locked": true,
     "schema_version": 1,
     "solution": false
    }
   },
   "source": [
    "## Your chart choice (2 points)\n",
    "\n",
    "Explain:\n",
    "\n",
    "- Why this chart?\n",
    "- What information does it convey? How?\n"
   ]
  },
  {
   "cell_type": "markdown",
   "metadata": {
    "nbgrader": {
     "grade": true,
     "grade_id": "01_expl_sol",
     "locked": false,
     "points": 2,
     "schema_version": 1,
     "solution": true
    }
   },
   "source": [
    "YOUR ANSWERS HERE"
   ]
  },
  {
   "cell_type": "markdown",
   "metadata": {
    "nbgrader": {
     "grade": false,
     "grade_id": "02_dox",
     "locked": true,
     "schema_version": 1,
     "solution": false
    }
   },
   "source": [
    "## Part 2: Bokeh visualizations (4 points)\n",
    "\n",
    "You have two possible datasets to use for this (both are in the `data` folder):\n",
    "\n",
    "- HVAC.csv: A dataset with air-conditioning temperature measurements\n",
    "- WHO.csv: The WHO data we have worked with last week (and in Module 2)\n",
    "\n",
    "Use *one* of these datasets to build an interactive chart with Bokeh. Make sure you investigate your data first and choose a chart you think conveys the data *well.* Please make sure to fill out the **\"Your chart choice\"** section below.\n",
    "\n",
    "Some ideas on possible charts (you are free to use these, or come up with your own!):\n",
    "\n",
    "#### HVAC dataset\n",
    "\n",
    "- HVAC: Chart a few buildings with actual temperature over time.\n",
    "- HVAC: Chart a few systems with actual and target temperatures over time.\n",
    "- HVAC: Identify a few systems or buildings that don't compare to the others. Chart their data vs. the average or median values.\n",
    "\n",
    "#### WHO dataset\n",
    "\n",
    "- WHO: Chart primary-school enrollment male vs. female for a region or selection of countries.\n",
    "- WHO: Compare child mortality across regions or countries.\n",
    "- WHO: Show correlations between two fields you find interesting.\n",
    "\n",
    "HINT: Explore each dataset a bit before deciding on a visualization. [Look at some Bokeh examples.](https://bokeh.pydata.org/en/latest/docs/gallery.html#gallery) \n"
   ]
  },
  {
   "cell_type": "code",
   "execution_count": 327,
   "metadata": {
    "nbgrader": {
     "grade": true,
     "grade_id": "02_sol",
     "locked": false,
     "points": 4,
     "schema_version": 1,
     "solution": true
    },
    "scrolled": true
   },
   "outputs": [
    {
     "data": {
      "text/html": [
       "<div>\n",
       "<style scoped>\n",
       "    .dataframe tbody tr th:only-of-type {\n",
       "        vertical-align: middle;\n",
       "    }\n",
       "\n",
       "    .dataframe tbody tr th {\n",
       "        vertical-align: top;\n",
       "    }\n",
       "\n",
       "    .dataframe thead th {\n",
       "        text-align: right;\n",
       "    }\n",
       "</style>\n",
       "<table border=\"1\" class=\"dataframe\">\n",
       "  <thead>\n",
       "    <tr style=\"text-align: right;\">\n",
       "      <th></th>\n",
       "      <th>Country</th>\n",
       "      <th>Region</th>\n",
       "      <th>Population</th>\n",
       "      <th>Under15</th>\n",
       "      <th>Over60</th>\n",
       "      <th>FertilityRate</th>\n",
       "      <th>LifeExpectancy</th>\n",
       "      <th>ChildMortality</th>\n",
       "      <th>CellularSubscribers</th>\n",
       "      <th>LiteracyRate</th>\n",
       "      <th>GNI</th>\n",
       "      <th>PrimarySchoolEnrollmentMale</th>\n",
       "      <th>PrimarySchoolEnrollmentFemale</th>\n",
       "    </tr>\n",
       "  </thead>\n",
       "  <tbody>\n",
       "    <tr>\n",
       "      <th>0</th>\n",
       "      <td>Afghanistan</td>\n",
       "      <td>Eastern Mediterranean</td>\n",
       "      <td>29825</td>\n",
       "      <td>47.42</td>\n",
       "      <td>3.82</td>\n",
       "      <td>5.40</td>\n",
       "      <td>60</td>\n",
       "      <td>98.5</td>\n",
       "      <td>54.26</td>\n",
       "      <td>NaN</td>\n",
       "      <td>1140.0</td>\n",
       "      <td>NaN</td>\n",
       "      <td>NaN</td>\n",
       "    </tr>\n",
       "    <tr>\n",
       "      <th>1</th>\n",
       "      <td>Albania</td>\n",
       "      <td>Europe</td>\n",
       "      <td>3162</td>\n",
       "      <td>21.33</td>\n",
       "      <td>14.93</td>\n",
       "      <td>1.75</td>\n",
       "      <td>74</td>\n",
       "      <td>16.7</td>\n",
       "      <td>96.39</td>\n",
       "      <td>NaN</td>\n",
       "      <td>8820.0</td>\n",
       "      <td>NaN</td>\n",
       "      <td>NaN</td>\n",
       "    </tr>\n",
       "    <tr>\n",
       "      <th>2</th>\n",
       "      <td>Algeria</td>\n",
       "      <td>Africa</td>\n",
       "      <td>38482</td>\n",
       "      <td>27.42</td>\n",
       "      <td>7.17</td>\n",
       "      <td>2.83</td>\n",
       "      <td>73</td>\n",
       "      <td>20.0</td>\n",
       "      <td>98.99</td>\n",
       "      <td>NaN</td>\n",
       "      <td>8310.0</td>\n",
       "      <td>98.2</td>\n",
       "      <td>96.4</td>\n",
       "    </tr>\n",
       "    <tr>\n",
       "      <th>3</th>\n",
       "      <td>Andorra</td>\n",
       "      <td>Europe</td>\n",
       "      <td>78</td>\n",
       "      <td>15.20</td>\n",
       "      <td>22.86</td>\n",
       "      <td>NaN</td>\n",
       "      <td>82</td>\n",
       "      <td>3.2</td>\n",
       "      <td>75.49</td>\n",
       "      <td>NaN</td>\n",
       "      <td>NaN</td>\n",
       "      <td>78.4</td>\n",
       "      <td>79.4</td>\n",
       "    </tr>\n",
       "    <tr>\n",
       "      <th>4</th>\n",
       "      <td>Angola</td>\n",
       "      <td>Africa</td>\n",
       "      <td>20821</td>\n",
       "      <td>47.58</td>\n",
       "      <td>3.84</td>\n",
       "      <td>6.10</td>\n",
       "      <td>51</td>\n",
       "      <td>163.5</td>\n",
       "      <td>48.38</td>\n",
       "      <td>70.1</td>\n",
       "      <td>5230.0</td>\n",
       "      <td>93.1</td>\n",
       "      <td>78.2</td>\n",
       "    </tr>\n",
       "  </tbody>\n",
       "</table>\n",
       "</div>"
      ],
      "text/plain": [
       "       Country                 Region  Population  Under15  Over60  \\\n",
       "0  Afghanistan  Eastern Mediterranean       29825    47.42    3.82   \n",
       "1      Albania                 Europe        3162    21.33   14.93   \n",
       "2      Algeria                 Africa       38482    27.42    7.17   \n",
       "3      Andorra                 Europe          78    15.20   22.86   \n",
       "4       Angola                 Africa       20821    47.58    3.84   \n",
       "\n",
       "   FertilityRate  LifeExpectancy  ChildMortality  CellularSubscribers  \\\n",
       "0           5.40              60            98.5                54.26   \n",
       "1           1.75              74            16.7                96.39   \n",
       "2           2.83              73            20.0                98.99   \n",
       "3            NaN              82             3.2                75.49   \n",
       "4           6.10              51           163.5                48.38   \n",
       "\n",
       "   LiteracyRate     GNI  PrimarySchoolEnrollmentMale  \\\n",
       "0           NaN  1140.0                          NaN   \n",
       "1           NaN  8820.0                          NaN   \n",
       "2           NaN  8310.0                         98.2   \n",
       "3           NaN     NaN                         78.4   \n",
       "4          70.1  5230.0                         93.1   \n",
       "\n",
       "   PrimarySchoolEnrollmentFemale  \n",
       "0                            NaN  \n",
       "1                            NaN  \n",
       "2                           96.4  \n",
       "3                           79.4  \n",
       "4                           78.2  "
      ]
     },
     "execution_count": 327,
     "metadata": {},
     "output_type": "execute_result"
    }
   ],
   "source": [
    "# YOUR CODE HERE \n",
    "who_df = pd.read_csv('data/WHO.csv')\n",
    "\n",
    "# examine dataset\n",
    "who_df.head()"
   ]
  },
  {
   "cell_type": "code",
   "execution_count": 328,
   "metadata": {},
   "outputs": [
    {
     "data": {
      "text/plain": [
       "(194, 13)"
      ]
     },
     "execution_count": 328,
     "metadata": {},
     "output_type": "execute_result"
    }
   ],
   "source": [
    "# examine dataset\n",
    "who_df.shape"
   ]
  },
  {
   "cell_type": "code",
   "execution_count": 329,
   "metadata": {
    "scrolled": false
   },
   "outputs": [
    {
     "data": {
      "text/plain": [
       "Europe                   53\n",
       "Africa                   46\n",
       "Americas                 35\n",
       "Western Pacific          27\n",
       "Eastern Mediterranean    22\n",
       "South-East Asia          11\n",
       "Name: Region, dtype: int64"
      ]
     },
     "execution_count": 329,
     "metadata": {},
     "output_type": "execute_result"
    }
   ],
   "source": [
    "# examine dataset\n",
    "# how many countries in each region?\n",
    "who_df.Region.value_counts()"
   ]
  },
  {
   "cell_type": "code",
   "execution_count": 330,
   "metadata": {},
   "outputs": [
    {
     "data": {
      "text/plain": [
       "Index(['Country', 'Region', 'Population', 'Under15', 'Over60', 'FertilityRate',\n",
       "       'LifeExpectancy', 'ChildMortality', 'CellularSubscribers',\n",
       "       'LiteracyRate', 'GNI', 'PrimarySchoolEnrollmentMale',\n",
       "       'PrimarySchoolEnrollmentFemale'],\n",
       "      dtype='object')"
      ]
     },
     "execution_count": 330,
     "metadata": {},
     "output_type": "execute_result"
    }
   ],
   "source": [
    "# get column names for easy copy/pasting\n",
    "who_df.columns"
   ]
  },
  {
   "cell_type": "markdown",
   "metadata": {},
   "source": [
    "I think I would like to make a scatter plot of child mortality against life expectancy."
   ]
  },
  {
   "cell_type": "code",
   "execution_count": 331,
   "metadata": {
    "scrolled": true
   },
   "outputs": [
    {
     "data": {
      "text/plain": [
       "count    194.000000\n",
       "mean      36.148969\n",
       "std       37.992935\n",
       "min        2.200000\n",
       "25%        8.425000\n",
       "50%       18.600000\n",
       "75%       55.975000\n",
       "max      181.600000\n",
       "Name: ChildMortality, dtype: float64"
      ]
     },
     "execution_count": 331,
     "metadata": {},
     "output_type": "execute_result"
    }
   ],
   "source": [
    "# examine ChildMortality\n",
    "who_df.ChildMortality.describe()"
   ]
  },
  {
   "cell_type": "code",
   "execution_count": 332,
   "metadata": {
    "scrolled": true
   },
   "outputs": [
    {
     "data": {
      "text/plain": [
       "count    194.000000\n",
       "mean      70.010309\n",
       "std        9.259075\n",
       "min       47.000000\n",
       "25%       64.000000\n",
       "50%       72.500000\n",
       "75%       76.000000\n",
       "max       83.000000\n",
       "Name: LifeExpectancy, dtype: float64"
      ]
     },
     "execution_count": 332,
     "metadata": {},
     "output_type": "execute_result"
    }
   ],
   "source": [
    "# examine LifeExpectancy\n",
    "who_df.LifeExpectancy.describe()"
   ]
  },
  {
   "cell_type": "markdown",
   "metadata": {},
   "source": [
    "Seems like there are numeric values for all countries, since min and max are numbers for both columns I just examined. \n",
    "\n",
    "Let's load up the Bokeh things."
   ]
  },
  {
   "cell_type": "code",
   "execution_count": 333,
   "metadata": {},
   "outputs": [],
   "source": [
    "from bokeh.plotting import figure, show\n",
    "from bokeh.models import ColumnDataSource\n",
    "from bokeh.io import output_notebook"
   ]
  },
  {
   "cell_type": "code",
   "execution_count": 334,
   "metadata": {
    "scrolled": true
   },
   "outputs": [
    {
     "data": {
      "text/html": [
       "\n",
       "\n",
       "\n",
       "\n",
       "\n",
       "\n",
       "  <div class=\"bk-root\" id=\"913268c1-38a6-4661-87b8-c5c8a8b8e91c\" data-root-id=\"4529\"></div>\n"
      ]
     },
     "metadata": {},
     "output_type": "display_data"
    },
    {
     "data": {
      "application/javascript": [
       "(function(root) {\n",
       "  function embed_document(root) {\n",
       "    \n",
       "  var docs_json = {\"838a3bfb-b2b8-4918-b8a2-686e3051f90f\":{\"roots\":{\"references\":[{\"attributes\":{\"below\":[{\"id\":\"4540\",\"type\":\"LinearAxis\"}],\"center\":[{\"id\":\"4544\",\"type\":\"Grid\"},{\"id\":\"4549\",\"type\":\"Grid\"}],\"left\":[{\"id\":\"4545\",\"type\":\"LinearAxis\"}],\"plot_width\":900,\"renderers\":[{\"id\":\"4566\",\"type\":\"GlyphRenderer\"}],\"title\":{\"id\":\"4530\",\"type\":\"Title\"},\"toolbar\":{\"id\":\"4556\",\"type\":\"Toolbar\"},\"x_range\":{\"id\":\"4532\",\"type\":\"DataRange1d\"},\"x_scale\":{\"id\":\"4536\",\"type\":\"LinearScale\"},\"y_range\":{\"id\":\"4534\",\"type\":\"DataRange1d\"},\"y_scale\":{\"id\":\"4538\",\"type\":\"LinearScale\"}},\"id\":\"4529\",\"subtype\":\"Figure\",\"type\":\"Plot\"},{\"attributes\":{\"axis_label\":\"Life Expectancy in Years\",\"formatter\":{\"id\":\"4718\",\"type\":\"BasicTickFormatter\"},\"ticker\":{\"id\":\"4546\",\"type\":\"BasicTicker\"}},\"id\":\"4545\",\"type\":\"LinearAxis\"},{\"attributes\":{},\"id\":\"4716\",\"type\":\"BasicTickFormatter\"},{\"attributes\":{\"ticker\":{\"id\":\"4541\",\"type\":\"BasicTicker\"}},\"id\":\"4544\",\"type\":\"Grid\"},{\"attributes\":{},\"id\":\"4718\",\"type\":\"BasicTickFormatter\"},{\"attributes\":{},\"id\":\"4720\",\"type\":\"Selection\"},{\"attributes\":{},\"id\":\"4721\",\"type\":\"UnionRenderers\"},{\"attributes\":{},\"id\":\"4553\",\"type\":\"PanTool\"},{\"attributes\":{},\"id\":\"4554\",\"type\":\"CrosshairTool\"},{\"attributes\":{},\"id\":\"4546\",\"type\":\"BasicTicker\"},{\"attributes\":{\"callback\":null,\"tooltips\":[[\"country\",\"@Country\"],[\"mortality\",\"@ChildMortality\"],[\"life exp\",\"@LifeExpectancy\"]]},\"id\":\"4552\",\"type\":\"HoverTool\"},{\"attributes\":{\"source\":{\"id\":\"4528\",\"type\":\"ColumnDataSource\"}},\"id\":\"4567\",\"type\":\"CDSView\"},{\"attributes\":{},\"id\":\"4536\",\"type\":\"LinearScale\"},{\"attributes\":{\"dimension\":1,\"ticker\":{\"id\":\"4546\",\"type\":\"BasicTicker\"}},\"id\":\"4549\",\"type\":\"Grid\"},{\"attributes\":{\"callback\":null},\"id\":\"4532\",\"type\":\"DataRange1d\"},{\"attributes\":{\"data_source\":{\"id\":\"4528\",\"type\":\"ColumnDataSource\"},\"glyph\":{\"id\":\"4564\",\"type\":\"Scatter\"},\"hover_glyph\":null,\"muted_glyph\":null,\"nonselection_glyph\":{\"id\":\"4565\",\"type\":\"Scatter\"},\"selection_glyph\":null,\"view\":{\"id\":\"4567\",\"type\":\"CDSView\"}},\"id\":\"4566\",\"type\":\"GlyphRenderer\"},{\"attributes\":{\"fill_alpha\":{\"value\":0.6},\"fill_color\":{\"value\":\"#ee6666\"},\"line_color\":{\"value\":\"#6666ee\"},\"size\":{\"units\":\"screen\",\"value\":16},\"x\":{\"field\":\"ChildMortality\"},\"y\":{\"field\":\"LifeExpectancy\"}},\"id\":\"4564\",\"type\":\"Scatter\"},{\"attributes\":{\"callback\":null},\"id\":\"4534\",\"type\":\"DataRange1d\"},{\"attributes\":{\"fill_alpha\":{\"value\":0.1},\"fill_color\":{\"value\":\"#1f77b4\"},\"line_alpha\":{\"value\":0.1},\"line_color\":{\"value\":\"#1f77b4\"},\"size\":{\"units\":\"screen\",\"value\":16},\"x\":{\"field\":\"ChildMortality\"},\"y\":{\"field\":\"LifeExpectancy\"}},\"id\":\"4565\",\"type\":\"Scatter\"},{\"attributes\":{\"axis_label\":\"Child Mortality per 1,000 Live Births\",\"formatter\":{\"id\":\"4716\",\"type\":\"BasicTickFormatter\"},\"ticker\":{\"id\":\"4541\",\"type\":\"BasicTicker\"}},\"id\":\"4540\",\"type\":\"LinearAxis\"},{\"attributes\":{},\"id\":\"4538\",\"type\":\"LinearScale\"},{\"attributes\":{\"text\":\"WHO Data: Child Mortality and Life Expectancy\"},\"id\":\"4530\",\"type\":\"Title\"},{\"attributes\":{\"callback\":null,\"data\":{\"CellularSubscribers\":{\"__ndarray__\":\"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\",\"dtype\":\"float64\",\"shape\":[194]},\"ChildMortality\":{\"__ndarray__\":\"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\",\"dtype\":\"float64\",\"shape\":[194]},\"Country\":[\"Afghanistan\",\"Albania\",\"Algeria\",\"Andorra\",\"Angola\",\"Antigua and Barbuda\",\"Argentina\",\"Armenia\",\"Australia\",\"Austria\",\"Azerbaijan\",\"Bahamas\",\"Bahrain\",\"Bangladesh\",\"Barbados\",\"Belarus\",\"Belgium\",\"Belize\",\"Benin\",\"Bhutan\",\"Bolivia (Plurinational State of)\",\"Bosnia and Herzegovina\",\"Botswana\",\"Brazil\",\"Brunei Darussalam\",\"Bulgaria\",\"Burkina Faso\",\"Burundi\",\"Cambodia\",\"Cameroon\",\"Canada\",\"Cape Verde\",\"Central African Republic\",\"Chad\",\"Chile\",\"China\",\"Colombia\",\"Comoros\",\"Congo\",\"Cook Islands\",\"Costa Rica\",\"Ivory Coast\",\"Croatia\",\"Cuba\",\"Cyprus\",\"Czech Republic\",\"Democratic People's Republic of Korea\",\"Democratic Republic of the Congo\",\"Denmark\",\"Djibouti\",\"Dominica\",\"Dominican Republic\",\"Ecuador\",\"Egypt\",\"El Salvador\",\"Equatorial Guinea\",\"Eritrea\",\"Estonia\",\"Ethiopia\",\"Fiji\",\"Finland\",\"France\",\"Gabon\",\"Gambia\",\"Georgia\",\"Germany\",\"Ghana\",\"Greece\",\"Grenada\",\"Guatemala\",\"Guinea\",\"Guinea-Bissau\",\"Guyana\",\"Haiti\",\"Honduras\",\"Hungary\",\"Iceland\",\"India\",\"Indonesia\",\"Iran (Islamic Republic of)\",\"Iraq\",\"Ireland\",\"Israel\",\"Italy\",\"Jamaica\",\"Japan\",\"Jordan\",\"Kazakhstan\",\"Kenya\",\"Kiribati\",\"Kuwait\",\"Kyrgyzstan\",\"Lao People's Democratic Republic\",\"Latvia\",\"Lebanon\",\"Lesotho\",\"Liberia\",\"Libya\",\"Lithuania\",\"Luxembourg\",\"Madagascar\",\"Malawi\",\"Malaysia\",\"Maldives\",\"Mali\",\"Malta\",\"Marshall Islands\",\"Mauritania\",\"Mauritius\",\"Mexico\",\"Micronesia (Federated States of)\",\"Monaco\",\"Mongolia\",\"Montenegro\",\"Morocco\",\"Mozambique\",\"Myanmar\",\"Namibia\",\"Nauru\",\"Nepal\",\"Netherlands\",\"New Zealand\",\"Nicaragua\",\"Niger\",\"Nigeria\",\"Niue\",\"Norway\",\"Oman\",\"Pakistan\",\"Palau\",\"Panama\",\"Papua New Guinea\",\"Paraguay\",\"Peru\",\"Philippines\",\"Poland\",\"Portugal\",\"Qatar\",\"Republic of Korea\",\"Republic of Moldova\",\"Romania\",\"Russian Federation\",\"Rwanda\",\"Saint Kitts and Nevis\",\"Saint Lucia\",\"Saint Vincent and the Grenadines\",\"Samoa\",\"San Marino\",\"Sao Tome and Principe\",\"Saudi Arabia\",\"Senegal\",\"Serbia\",\"Seychelles\",\"Sierra Leone\",\"Singapore\",\"Slovakia\",\"Slovenia\",\"Solomon Islands\",\"Somalia\",\"South Africa\",\"South Sudan\",\"Spain\",\"Sri Lanka\",\"Sudan\",\"Suriname\",\"Swaziland\",\"Sweden\",\"Switzerland\",\"Syrian Arab Republic\",\"Tajikistan\",\"Thailand\",\"The former Yugoslav Republic of Macedonia\",\"Timor-Leste\",\"Togo\",\"Tonga\",\"Trinidad and Tobago\",\"Tunisia\",\"Turkey\",\"Turkmenistan\",\"Tuvalu\",\"Uganda\",\"Ukraine\",\"United Arab Emirates\",\"United Kingdom\",\"United Republic of Tanzania\",\"United States of America\",\"Uruguay\",\"Uzbekistan\",\"Vanuatu\",\"Venezuela (Bolivarian Republic of)\",\"Viet Nam\",\"Yemen\",\"Zambia\",\"Zimbabwe\"],\"FertilityRate\":{\"__ndarray__\":\"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\",\"dtype\":\"float64\",\"shape\":[194]},\"GNI\":{\"__ndarray__\":\"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\",\"dtype\":\"float64\",\"shape\":[194]},\"LifeExpectancy\":[60,74,73,82,51,75,76,71,82,81,71,75,79,70,78,71,80,74,57,67,67,76,66,74,77,74,56,53,65,53,82,72,48,51,79,76,78,62,58,77,79,56,77,78,81,78,69,49,79,58,74,73,76,73,72,54,61,76,60,70,81,82,62,58,72,81,64,81,74,69,55,50,63,63,74,75,82,65,69,73,69,81,82,82,75,83,74,67,60,67,80,69,68,74,74,50,59,65,74,82,66,58,74,77,51,80,60,59,74,75,69,82,68,76,72,53,65,65,71,68,81,81,73,56,53,72,81,72,67,72,77,63,75,77,69,76,80,82,81,71,74,69,60,74,75,74,73,83,63,76,61,74,74,47,82,76,80,70,50,58,54,82,75,62,72,50,82,83,75,68,74,75,64,56,72,71,76,76,63,64,56,71,76,80,59,79,77,68,72,75,75,64,55,54],\"LiteracyRate\":{\"__ndarray__\":\"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\",\"dtype\":\"float64\",\"shape\":[194]},\"Over60\":{\"__ndarray__\":\"j8L1KFyPDkBcj8L1KNwtQK5H4XoUrhxAXI/C9SjcNkC4HoXrUbgOQDMzMzMzsyhAcT0K16PwLUAfhetRuB4sQPYoXI/CdTNAhetRuB6FN0B7FK5H4XogQHsUrkfheiZACtejcD0KC0CPwvUoXI8bQI/C9Shcjy9Aj8L1KFxPM0CPwvUoXM83QPYoXI/C9RZAKVyPwvUoEkCamZmZmZkbQB+F61G4Hh1AhetRuB6FNECF61G4HoUWQB+F61G4niVAH4XrUbgeHEBcj8L1KBw6QArXo3A9Cg9A9ihcj8L1DkCuR+F6FK4eQI/C9ShcjxNAUrgehevRNEAzMzMzMzMcQPYoXI/C9RZAZmZmZmZmDkCamZmZmZkrQNejcD0K1ypA4XoUrkdhIkAAAAAAAAASQIXrUbgehRRApHA9CtcjIkDNzMzMzEwkQGZmZmZmZhRAcT0K16OwOEAzMzMzM/MxQOxRuB6F6zBAexSuR+E6N0B7FK5H4XopQArXo3A9ChJAZmZmZmbmN0DXo3A9CtcXQDMzMzMzsyhAcT0K16PwIUDsUbgehWsiQD0K16NwPSFASOF6FK5HI0AfhetRuB4SQNejcD0K1w1A7FG4HoXrN0CuR+F6FK4UQMP1KFyPwiBAZmZmZmbmOUBSuB6F69E3QIXrUbgehR1Aw/UoXI/CDUC4HoXrUXgzQLgehetRuDpAmpmZmZmZFUApXI/C9Wg5QHE9CtejcCNAPQrXo3A9GkAfhetRuB4UQD0K16NwPRRAuB6F61G4FEDNzMzMzMwaQKRwPQrXoxlAKVyPwvVoN0AfhetRuJ4xQDMzMzMzMyBAcT0K16NwH0BI4XoUrkcfQM3MzMzMzBNA16NwPQqXMEDNzMzMzEwuQLgehetR+DpA9ihcj8L1JUDsUbgehes/QDMzMzMzMxVAFK5H4XoUJEAAAAAAAAARQK5H4XoUriFAZmZmZmZmDkBcj8L1KFwZQArXo3A9ChdAPQrXo3A9OECPwvUoXA8oQD0K16NwPRlACtejcD0KE0DXo3A9CtcbQFK4HoXrkTRAZmZmZmYmM0DNzMzMzMwRQK5H4XoUrhNA7FG4HoVrIECamZmZmZkaQClcj8L1KBFAH4XrUbjeNkCuR+F6FK4hQMP1KFyPwhNA9ihcj8J1KkBcj8L1KFwiQK5H4XoUrhpAUrgehevRN0AzMzMzMzMXQBSuR+F6lDJAcT0K16NwHkAK16NwPQoUQM3MzMzMTCBAhetRuB6FFUCuR+F6FK4hQJqZmZmZmR5AhetRuB4FN0DD9ShcjwIzQFyPwvUoXBpACtejcD0KEUD2KFyPwvURQKRwPQrXIyJAKVyPwvVoNUDsUbgehesPQMP1KFyPwhlArkfhehSuIUDD9Shcj0IkQClcj8L1KBNAhetRuB4FIEA9CtejcD0iQNejcD0K1xhAexSuR+F6NECkcD0K12M4QK5H4XoUrvs/FK5H4XqUMEC4HoXrUbgwQClcj8L1qDRAmpmZmZmZMkCF61G4HoUPQDMzMzMzsyhAw/UoXI9CKEDXo3A9CtcjQI/C9Shcjx1AuB6F61H4OkAK16NwPQoTQFyPwvUoXBJASOF6FK5HEkCF61G4HoU0QJqZmZmZGSRApHA9CtejEUDD9Shcj0IuQJqZmZmZmTJAKVyPwvUoN0BmZmZmZmYUQNejcD0K1xFA4XoUrkfhIEAK16NwPQoVQFyPwvUo3DZAzczMzMzMKED2KFyPwvUTQJqZmZmZGSNAXI/C9ShcFUBSuB6F61E5QAAAAAAAQDdAXI/C9ShcGEAzMzMzMzMTQOxRuB6F6ytAj8L1KFyPMUCkcD0K16MUQMP1KFyPwhFA16NwPQrXH0Bcj8L1KFwqQHsUrkfh+iRAH4XrUbgeJUAzMzMzMzMZQKRwPQrXIyJAw/UoXI/CDUDD9Shcj8I0QOxRuB6F6+k/j8L1KFwPN0CPwvUoXI8TQI/C9ShcTzNA16NwPQqXMkCF61G4HoUZQBSuR+F6FBhA16NwPQpXIkCkcD0K16MiQClcj8L1KBJAmpmZmZmZD0C4HoXrUbgWQA==\",\"dtype\":\"float64\",\"shape\":[194]},\"Population\":[29825,3162,38482,78,20821,89,41087,2969,23050,8464,9309,372,1318,155000,283,9405,11060,324,10051,742,10496,3834,2004,199000,412,7278,16460,9850,14865,21700,34838,494,4525,12448,17465,1390000,47704,718,4337,21,4805,19840,4307,11271,1129,10660,24763,65705,5598,860,72,10277,15492,80722,6297,736,6131,1291,91729,875,5408,63937,1633,1791,4358,82800,25366,11125,105,15083,11451,1664,795,10174,7936,9976,326,1240000,247000,76424,32778,4576,7644,60885,2769,127000,7009,16271,43178,101,3250,5474,6646,2060,4647,2052,4190,6155,3028,524,22294,15906,29240,338,14854,428,53,3796,1240,121000,103,38,2796,621,32521,25203,52797,2259,10,27474,16714,4460,5992,17157,169000,1,4994,3314,179000,21,3802,7167,6687,29988,96707,38211,10604,2051,49003,3514,21755,143000,11458,54,181,109,189,31,188,28288,13726,9553,92,5979,5303,5446,2068,550,10195,52386,10838,46755,21098,37195,535,1231,9511,7997,21890,8009,66785,2106,1114,6643,105,1337,10875,73997,5173,10,36346,45530,9206,62783,47783,318000,3395,28541,247,29955,90796,23852,14075,13724],\"PrimarySchoolEnrollmentFemale\":{\"__ndarray__\":\"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\",\"dtype\":\"float64\",\"shape\":[194]},\"PrimarySchoolEnrollmentMale\":{\"__ndarray__\":\"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\",\"dtype\":\"float64\",\"shape\":[194]},\"Region\":[\"Eastern Mediterranean\",\"Europe\",\"Africa\",\"Europe\",\"Africa\",\"Americas\",\"Americas\",\"Europe\",\"Western Pacific\",\"Europe\",\"Europe\",\"Americas\",\"Eastern Mediterranean\",\"South-East Asia\",\"Americas\",\"Europe\",\"Europe\",\"Americas\",\"Africa\",\"South-East Asia\",\"Americas\",\"Europe\",\"Africa\",\"Americas\",\"Western Pacific\",\"Europe\",\"Africa\",\"Africa\",\"Western Pacific\",\"Africa\",\"Americas\",\"Africa\",\"Africa\",\"Africa\",\"Americas\",\"Western Pacific\",\"Americas\",\"Africa\",\"Africa\",\"Western Pacific\",\"Americas\",\"Africa\",\"Europe\",\"Americas\",\"Europe\",\"Europe\",\"South-East Asia\",\"Africa\",\"Europe\",\"Eastern Mediterranean\",\"Americas\",\"Americas\",\"Americas\",\"Eastern Mediterranean\",\"Americas\",\"Africa\",\"Africa\",\"Europe\",\"Africa\",\"Western Pacific\",\"Europe\",\"Europe\",\"Africa\",\"Africa\",\"Europe\",\"Europe\",\"Africa\",\"Europe\",\"Americas\",\"Americas\",\"Africa\",\"Africa\",\"Americas\",\"Americas\",\"Americas\",\"Europe\",\"Europe\",\"South-East Asia\",\"South-East Asia\",\"Eastern Mediterranean\",\"Eastern Mediterranean\",\"Europe\",\"Europe\",\"Europe\",\"Americas\",\"Western Pacific\",\"Eastern Mediterranean\",\"Europe\",\"Africa\",\"Western Pacific\",\"Eastern Mediterranean\",\"Europe\",\"Western Pacific\",\"Europe\",\"Eastern Mediterranean\",\"Africa\",\"Africa\",\"Eastern Mediterranean\",\"Europe\",\"Europe\",\"Africa\",\"Africa\",\"Western Pacific\",\"South-East Asia\",\"Africa\",\"Europe\",\"Western Pacific\",\"Africa\",\"Africa\",\"Americas\",\"Western Pacific\",\"Europe\",\"Western Pacific\",\"Europe\",\"Eastern Mediterranean\",\"Africa\",\"South-East Asia\",\"Africa\",\"Western Pacific\",\"South-East Asia\",\"Europe\",\"Western Pacific\",\"Americas\",\"Africa\",\"Africa\",\"Western Pacific\",\"Europe\",\"Eastern Mediterranean\",\"Eastern Mediterranean\",\"Western Pacific\",\"Americas\",\"Western Pacific\",\"Americas\",\"Americas\",\"Western Pacific\",\"Europe\",\"Europe\",\"Eastern Mediterranean\",\"Western Pacific\",\"Europe\",\"Europe\",\"Europe\",\"Africa\",\"Americas\",\"Americas\",\"Americas\",\"Western Pacific\",\"Europe\",\"Africa\",\"Eastern Mediterranean\",\"Africa\",\"Europe\",\"Africa\",\"Africa\",\"Western Pacific\",\"Europe\",\"Europe\",\"Western Pacific\",\"Eastern Mediterranean\",\"Africa\",\"Eastern Mediterranean\",\"Europe\",\"South-East Asia\",\"Eastern Mediterranean\",\"Americas\",\"Africa\",\"Europe\",\"Europe\",\"Eastern Mediterranean\",\"Europe\",\"South-East Asia\",\"Europe\",\"South-East Asia\",\"Africa\",\"Western Pacific\",\"Americas\",\"Eastern Mediterranean\",\"Europe\",\"Europe\",\"Western Pacific\",\"Africa\",\"Europe\",\"Eastern Mediterranean\",\"Europe\",\"Africa\",\"Americas\",\"Americas\",\"Europe\",\"Western Pacific\",\"Americas\",\"Western Pacific\",\"Eastern Mediterranean\",\"Africa\",\"Africa\"],\"Under15\":{\"__ndarray__\":\"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\",\"dtype\":\"float64\",\"shape\":[194]},\"index\":[0,1,2,3,4,5,6,7,8,9,10,11,12,13,14,15,16,17,18,19,20,21,22,23,24,25,26,27,28,29,30,31,32,33,34,35,36,37,38,39,40,41,42,43,44,45,46,47,48,49,50,51,52,53,54,55,56,57,58,59,60,61,62,63,64,65,66,67,68,69,70,71,72,73,74,75,76,77,78,79,80,81,82,83,84,85,86,87,88,89,90,91,92,93,94,95,96,97,98,99,100,101,102,103,104,105,106,107,108,109,110,111,112,113,114,115,116,117,118,119,120,121,122,123,124,125,126,127,128,129,130,131,132,133,134,135,136,137,138,139,140,141,142,143,144,145,146,147,148,149,150,151,152,153,154,155,156,157,158,159,160,161,162,163,164,165,166,167,168,169,170,171,172,173,174,175,176,177,178,179,180,181,182,183,184,185,186,187,188,189,190,191,192,193]},\"selected\":{\"id\":\"4720\",\"type\":\"Selection\"},\"selection_policy\":{\"id\":\"4721\",\"type\":\"UnionRenderers\"}},\"id\":\"4528\",\"type\":\"ColumnDataSource\"},{\"attributes\":{},\"id\":\"4550\",\"type\":\"ZoomInTool\"},{\"attributes\":{\"active_drag\":\"auto\",\"active_inspect\":\"auto\",\"active_multi\":null,\"active_scroll\":\"auto\",\"active_tap\":\"auto\",\"tools\":[{\"id\":\"4550\",\"type\":\"ZoomInTool\"},{\"id\":\"4551\",\"type\":\"ZoomOutTool\"},{\"id\":\"4552\",\"type\":\"HoverTool\"},{\"id\":\"4553\",\"type\":\"PanTool\"},{\"id\":\"4554\",\"type\":\"CrosshairTool\"},{\"id\":\"4555\",\"type\":\"ResetTool\"}]},\"id\":\"4556\",\"type\":\"Toolbar\"},{\"attributes\":{},\"id\":\"4541\",\"type\":\"BasicTicker\"},{\"attributes\":{},\"id\":\"4551\",\"type\":\"ZoomOutTool\"},{\"attributes\":{},\"id\":\"4555\",\"type\":\"ResetTool\"}],\"root_ids\":[\"4529\"]},\"title\":\"Bokeh Application\",\"version\":\"1.3.4\"}};\n",
       "  var render_items = [{\"docid\":\"838a3bfb-b2b8-4918-b8a2-686e3051f90f\",\"roots\":{\"4529\":\"913268c1-38a6-4661-87b8-c5c8a8b8e91c\"}}];\n",
       "  root.Bokeh.embed.embed_items_notebook(docs_json, render_items);\n",
       "\n",
       "  }\n",
       "  if (root.Bokeh !== undefined) {\n",
       "    embed_document(root);\n",
       "  } else {\n",
       "    var attempts = 0;\n",
       "    var timer = setInterval(function(root) {\n",
       "      if (root.Bokeh !== undefined) {\n",
       "        embed_document(root);\n",
       "        clearInterval(timer);\n",
       "      }\n",
       "      attempts++;\n",
       "      if (attempts > 100) {\n",
       "        console.log(\"Bokeh: ERROR: Unable to run BokehJS code because BokehJS library is missing\");\n",
       "        clearInterval(timer);\n",
       "      }\n",
       "    }, 10, root)\n",
       "  }\n",
       "})(window);"
      ],
      "application/vnd.bokehjs_exec.v0+json": ""
     },
     "metadata": {
      "application/vnd.bokehjs_exec.v0+json": {
       "id": "4529"
      }
     },
     "output_type": "display_data"
    }
   ],
   "source": [
    "# make a chart where x-axis is ChildMortality and y-axis is LifeExpectancy \n",
    "\n",
    "# for tools, see https://bokeh.pydata.org/en/latest/docs/user_guide/tools.html \n",
    "TOOLS = \"zoom_in,zoom_out,hover,pan,crosshair,reset\"\n",
    "\n",
    "# define data source as the data frame\n",
    "source = ColumnDataSource(who_df)\n",
    "\n",
    "# for tooltips, see same page - the @ things are column names from the defined source \n",
    "TOOLTIPS = [\n",
    "    (\"country\", \"@Country\"),\n",
    "    (\"mortality\", \"@ChildMortality\"),\n",
    "    (\"life exp\", \"@LifeExpectancy\")\n",
    "]\n",
    "\n",
    "# for figure, see https://bokeh.pydata.org/en/latest/docs/reference/plotting.html \n",
    "p = figure(tools=TOOLS,\n",
    "           tooltips=TOOLTIPS,\n",
    "           x_axis_label=\"Child Mortality per 1,000 Live Births\",\n",
    "           y_axis_label=\"Life Expectancy in Years\",\n",
    "           title=\"WHO Data: Child Mortality and Life Expectancy\",\n",
    "           plot_width=900)\n",
    "\n",
    "# for scatter, see https://bokeh.pydata.org/en/latest/docs/gallery/color_scatter.html \n",
    "p.scatter('ChildMortality', 'LifeExpectancy', \n",
    "          source=source,\n",
    "          line_color=\"#6666ee\",\n",
    "          fill_color=\"#ee6666\", \n",
    "          fill_alpha=0.6,\n",
    "          size=16)\n",
    "\n",
    "# show the chart defined above as \"p\" \n",
    "show(p)\n"
   ]
  },
  {
   "cell_type": "markdown",
   "metadata": {},
   "source": [
    "I would like to color the dots by region, but that will wait for another day. "
   ]
  },
  {
   "cell_type": "markdown",
   "metadata": {
    "nbgrader": {
     "grade": false,
     "grade_id": "02_expl",
     "locked": true,
     "schema_version": 1,
     "solution": false
    }
   },
   "source": [
    "## Your chart choice (1 point)\n",
    "\n",
    "Explain:\n",
    "\n",
    "- Why this chart?\n",
    "- What information does it convey? How?\n"
   ]
  },
  {
   "cell_type": "markdown",
   "metadata": {
    "nbgrader": {
     "grade": true,
     "grade_id": "02_expl_sol",
     "locked": false,
     "points": 1,
     "schema_version": 1,
     "solution": true
    }
   },
   "source": [
    "YOUR ANSWERS HERE"
   ]
  },
  {
   "cell_type": "markdown",
   "metadata": {
    "nbgrader": {
     "grade": false,
     "grade_id": "debugging_dox",
     "locked": true,
     "schema_version": 1,
     "solution": false
    }
   },
   "source": [
    "## Your Debugging Notes\n",
    "\n",
    "Add your debugging notes here! Possible topics include:\n",
    "- What parts of the assignment did you have problems with? How did you solve those problems?\n",
    "- Where were you able to find help? (links, resources, documentation)\n",
    "- What did you try first? How did you find the answer?\n",
    "- What do you know now that would have helped in problem solving?\n",
    "- Did you notice a change in thinking or confidence that helped you solve the problem? \n",
    "\n",
    "Remember: Please keep as much debugging code as possible in the solutions for extra credit! (Feel free to use the + button to add cells for this purpose!)"
   ]
  },
  {
   "cell_type": "markdown",
   "metadata": {
    "nbgrader": {
     "grade": true,
     "grade_id": "debugging",
     "locked": false,
     "points": 5,
     "schema_version": 1,
     "solution": true
    }
   },
   "source": [
    "YOUR NOTES HERE"
   ]
  }
 ],
 "metadata": {
  "celltoolbar": "Create Assignment",
  "kernelspec": {
   "display_name": "Python 3",
   "language": "python",
   "name": "python3"
  },
  "language_info": {
   "codemirror_mode": {
    "name": "ipython",
    "version": 3
   },
   "file_extension": ".py",
   "mimetype": "text/x-python",
   "name": "python",
   "nbconvert_exporter": "python",
   "pygments_lexer": "ipython3",
   "version": "3.7.4"
  }
 },
 "nbformat": 4,
 "nbformat_minor": 2
}
